{
  "nbformat": 4,
  "nbformat_minor": 0,
  "metadata": {
    "colab": {
      "provenance": [],
      "gpuType": "T4"
    },
    "kernelspec": {
      "name": "python3",
      "display_name": "Python 3"
    },
    "language_info": {
      "name": "python"
    },
    "accelerator": "GPU"
  },
  "cells": [
    {
      "cell_type": "markdown",
      "source": [
        "## Machine Translation using Open Source Models\n",
        "- GPU accleration required!"
      ],
      "metadata": {
        "id": "8DwSasPdTSKC"
      }
    },
    {
      "cell_type": "markdown",
      "source": [
        "### Install packages"
      ],
      "metadata": {
        "id": "LN4V_wMbTY-J"
      }
    },
    {
      "cell_type": "code",
      "execution_count": null,
      "metadata": {
        "colab": {
          "base_uri": "https://localhost:8080/"
        },
        "id": "Ctr8dlz5JekB",
        "outputId": "da8c481e-e35a-449f-d2bc-46038d620f4e"
      },
      "outputs": [
        {
          "output_type": "stream",
          "name": "stdout",
          "text": [
            "Collecting easynmt\n",
            "  Downloading EasyNMT-2.0.2.tar.gz (23 kB)\n",
            "  Preparing metadata (setup.py) ... \u001b[?25l\u001b[?25hdone\n",
            "Requirement already satisfied: tqdm in /usr/local/lib/python3.10/dist-packages (from easynmt) (4.66.1)\n",
            "Collecting transformers<5,>=4.4 (from easynmt)\n",
            "  Downloading transformers-4.34.1-py3-none-any.whl (7.7 MB)\n",
            "\u001b[2K     \u001b[90m━━━━━━━━━━━━━━━━━━━━━━━━━━━━━━━━━━━━━━━━\u001b[0m \u001b[32m7.7/7.7 MB\u001b[0m \u001b[31m60.3 MB/s\u001b[0m eta \u001b[36m0:00:00\u001b[0m\n",
            "\u001b[?25hRequirement already satisfied: torch>=1.6.0 in /usr/local/lib/python3.10/dist-packages (from easynmt) (2.1.0+cu118)\n",
            "Requirement already satisfied: numpy in /usr/local/lib/python3.10/dist-packages (from easynmt) (1.23.5)\n",
            "Requirement already satisfied: nltk in /usr/local/lib/python3.10/dist-packages (from easynmt) (3.8.1)\n",
            "Collecting sentencepiece (from easynmt)\n",
            "  Downloading sentencepiece-0.1.99-cp310-cp310-manylinux_2_17_x86_64.manylinux2014_x86_64.whl (1.3 MB)\n",
            "\u001b[2K     \u001b[90m━━━━━━━━━━━━━━━━━━━━━━━━━━━━━━━━━━━━━━━━\u001b[0m \u001b[32m1.3/1.3 MB\u001b[0m \u001b[31m91.3 MB/s\u001b[0m eta \u001b[36m0:00:00\u001b[0m\n",
            "\u001b[?25hCollecting fasttext (from easynmt)\n",
            "  Downloading fasttext-0.9.2.tar.gz (68 kB)\n",
            "\u001b[2K     \u001b[90m━━━━━━━━━━━━━━━━━━━━━━━━━━━━━━━━━━━━━━━━\u001b[0m \u001b[32m68.8/68.8 kB\u001b[0m \u001b[31m11.1 MB/s\u001b[0m eta \u001b[36m0:00:00\u001b[0m\n",
            "\u001b[?25h  Preparing metadata (setup.py) ... \u001b[?25l\u001b[?25hdone\n",
            "Requirement already satisfied: protobuf in /usr/local/lib/python3.10/dist-packages (from easynmt) (3.20.3)\n",
            "Requirement already satisfied: filelock in /usr/local/lib/python3.10/dist-packages (from torch>=1.6.0->easynmt) (3.12.4)\n",
            "Requirement already satisfied: typing-extensions in /usr/local/lib/python3.10/dist-packages (from torch>=1.6.0->easynmt) (4.5.0)\n",
            "Requirement already satisfied: sympy in /usr/local/lib/python3.10/dist-packages (from torch>=1.6.0->easynmt) (1.12)\n",
            "Requirement already satisfied: networkx in /usr/local/lib/python3.10/dist-packages (from torch>=1.6.0->easynmt) (3.2)\n",
            "Requirement already satisfied: jinja2 in /usr/local/lib/python3.10/dist-packages (from torch>=1.6.0->easynmt) (3.1.2)\n",
            "Requirement already satisfied: fsspec in /usr/local/lib/python3.10/dist-packages (from torch>=1.6.0->easynmt) (2023.6.0)\n",
            "Requirement already satisfied: triton==2.1.0 in /usr/local/lib/python3.10/dist-packages (from torch>=1.6.0->easynmt) (2.1.0)\n",
            "Collecting huggingface-hub<1.0,>=0.16.4 (from transformers<5,>=4.4->easynmt)\n",
            "  Downloading huggingface_hub-0.18.0-py3-none-any.whl (301 kB)\n",
            "\u001b[2K     \u001b[90m━━━━━━━━━━━━━━━━━━━━━━━━━━━━━━━━━━━━━━━━\u001b[0m \u001b[32m302.0/302.0 kB\u001b[0m \u001b[31m39.8 MB/s\u001b[0m eta \u001b[36m0:00:00\u001b[0m\n",
            "\u001b[?25hRequirement already satisfied: packaging>=20.0 in /usr/local/lib/python3.10/dist-packages (from transformers<5,>=4.4->easynmt) (23.2)\n",
            "Requirement already satisfied: pyyaml>=5.1 in /usr/local/lib/python3.10/dist-packages (from transformers<5,>=4.4->easynmt) (6.0.1)\n",
            "Requirement already satisfied: regex!=2019.12.17 in /usr/local/lib/python3.10/dist-packages (from transformers<5,>=4.4->easynmt) (2023.6.3)\n",
            "Requirement already satisfied: requests in /usr/local/lib/python3.10/dist-packages (from transformers<5,>=4.4->easynmt) (2.31.0)\n",
            "Collecting tokenizers<0.15,>=0.14 (from transformers<5,>=4.4->easynmt)\n",
            "  Downloading tokenizers-0.14.1-cp310-cp310-manylinux_2_17_x86_64.manylinux2014_x86_64.whl (3.8 MB)\n",
            "\u001b[2K     \u001b[90m━━━━━━━━━━━━━━━━━━━━━━━━━━━━━━━━━━━━━━━━\u001b[0m \u001b[32m3.8/3.8 MB\u001b[0m \u001b[31m108.2 MB/s\u001b[0m eta \u001b[36m0:00:00\u001b[0m\n",
            "\u001b[?25hCollecting safetensors>=0.3.1 (from transformers<5,>=4.4->easynmt)\n",
            "  Downloading safetensors-0.4.0-cp310-cp310-manylinux_2_17_x86_64.manylinux2014_x86_64.whl (1.3 MB)\n",
            "\u001b[2K     \u001b[90m━━━━━━━━━━━━━━━━━━━━━━━━━━━━━━━━━━━━━━━━\u001b[0m \u001b[32m1.3/1.3 MB\u001b[0m \u001b[31m101.2 MB/s\u001b[0m eta \u001b[36m0:00:00\u001b[0m\n",
            "\u001b[?25hCollecting pybind11>=2.2 (from fasttext->easynmt)\n",
            "  Using cached pybind11-2.11.1-py3-none-any.whl (227 kB)\n",
            "Requirement already satisfied: setuptools>=0.7.0 in /usr/local/lib/python3.10/dist-packages (from fasttext->easynmt) (67.7.2)\n",
            "Requirement already satisfied: click in /usr/local/lib/python3.10/dist-packages (from nltk->easynmt) (8.1.7)\n",
            "Requirement already satisfied: joblib in /usr/local/lib/python3.10/dist-packages (from nltk->easynmt) (1.3.2)\n",
            "Collecting huggingface-hub<1.0,>=0.16.4 (from transformers<5,>=4.4->easynmt)\n",
            "  Downloading huggingface_hub-0.17.3-py3-none-any.whl (295 kB)\n",
            "\u001b[2K     \u001b[90m━━━━━━━━━━━━━━━━━━━━━━━━━━━━━━━━━━━━━━━━\u001b[0m \u001b[32m295.0/295.0 kB\u001b[0m \u001b[31m43.4 MB/s\u001b[0m eta \u001b[36m0:00:00\u001b[0m\n",
            "\u001b[?25hRequirement already satisfied: MarkupSafe>=2.0 in /usr/local/lib/python3.10/dist-packages (from jinja2->torch>=1.6.0->easynmt) (2.1.3)\n",
            "Requirement already satisfied: charset-normalizer<4,>=2 in /usr/local/lib/python3.10/dist-packages (from requests->transformers<5,>=4.4->easynmt) (3.3.1)\n",
            "Requirement already satisfied: idna<4,>=2.5 in /usr/local/lib/python3.10/dist-packages (from requests->transformers<5,>=4.4->easynmt) (3.4)\n",
            "Requirement already satisfied: urllib3<3,>=1.21.1 in /usr/local/lib/python3.10/dist-packages (from requests->transformers<5,>=4.4->easynmt) (2.0.7)\n",
            "Requirement already satisfied: certifi>=2017.4.17 in /usr/local/lib/python3.10/dist-packages (from requests->transformers<5,>=4.4->easynmt) (2023.7.22)\n",
            "Requirement already satisfied: mpmath>=0.19 in /usr/local/lib/python3.10/dist-packages (from sympy->torch>=1.6.0->easynmt) (1.3.0)\n",
            "Building wheels for collected packages: easynmt, fasttext\n",
            "  Building wheel for easynmt (setup.py) ... \u001b[?25l\u001b[?25hdone\n",
            "  Created wheel for easynmt: filename=EasyNMT-2.0.2-py3-none-any.whl size=19899 sha256=ed0b9850e4f8ac223b8be4feba36b332f31cd6067d6823a781684c640db13ed5\n",
            "  Stored in directory: /root/.cache/pip/wheels/ab/55/72/aba4face7eac1d7750ca700aa1797b135fb8915e949da504cc\n",
            "  Building wheel for fasttext (setup.py) ... \u001b[?25l\u001b[?25hdone\n",
            "  Created wheel for fasttext: filename=fasttext-0.9.2-cp310-cp310-linux_x86_64.whl size=4199771 sha256=310a2efd7707bc789ecfb989898a0fcb6ab9d8721491d8ff2104d501b7370b4c\n",
            "  Stored in directory: /root/.cache/pip/wheels/a5/13/75/f811c84a8ab36eedbaef977a6a58a98990e8e0f1967f98f394\n",
            "Successfully built easynmt fasttext\n",
            "Installing collected packages: sentencepiece, safetensors, pybind11, huggingface-hub, fasttext, tokenizers, transformers, easynmt\n",
            "Successfully installed easynmt-2.0.2 fasttext-0.9.2 huggingface-hub-0.17.3 pybind11-2.11.1 safetensors-0.4.0 sentencepiece-0.1.99 tokenizers-0.14.1 transformers-4.34.1\n"
          ]
        }
      ],
      "source": [
        "pip install -U easynmt\n",
        "pip install news-please"
      ]
    },
    {
      "cell_type": "code",
      "source": [
        "from easynmt import EasyNMT\n",
        "import pandas as pd\n",
        "from torch import cuda"
      ],
      "metadata": {
        "id": "F37rsv2fJoZr"
      },
      "execution_count": null,
      "outputs": []
    },
    {
      "cell_type": "markdown",
      "source": [
        "## GPU Acceleration"
      ],
      "metadata": {
        "id": "RunC0QgZTiC5"
      }
    },
    {
      "cell_type": "code",
      "source": [
        "device = 'cuda' if cuda.is_available() else None\n",
        "print(device)"
      ],
      "metadata": {
        "colab": {
          "base_uri": "https://localhost:8080/"
        },
        "id": "Efp5m-UjJ3eq",
        "outputId": "caca53ee-a35e-4398-e068-4c5f7a70d326"
      },
      "execution_count": null,
      "outputs": [
        {
          "output_type": "stream",
          "name": "stdout",
          "text": [
            "cuda\n"
          ]
        }
      ]
    },
    {
      "cell_type": "markdown",
      "source": [
        "## Slect Model"
      ],
      "metadata": {
        "id": "rF9anmdtTrJR"
      }
    },
    {
      "cell_type": "code",
      "source": [
        "#model = EasyNMT('m2m_100_1.2B', device = device)\n",
        "model = EasyNMT('opus-mt', device = device)"
      ],
      "metadata": {
        "colab": {
          "base_uri": "https://localhost:8080/"
        },
        "id": "7FNLqhkKJ8Bq",
        "outputId": "1c63dad2-34ad-4f7c-ee5e-215cdfc86d2a"
      },
      "execution_count": null,
      "outputs": [
        {
          "output_type": "stream",
          "name": "stderr",
          "text": [
            "11.9kB [00:00, 15.8MB/s]                   \n"
          ]
        }
      ]
    },
    {
      "cell_type": "markdown",
      "source": [
        "## Translation"
      ],
      "metadata": {
        "id": "JVJX3iNmTxUK"
      }
    },
    {
      "cell_type": "code",
      "source": [
        "model.translate('Pojďme si přeložit několik větiček', target_lang = \"en\", show_progress_bar = True, max_length=1000)"
      ],
      "metadata": {
        "colab": {
          "base_uri": "https://localhost:8080/",
          "height": 52
        },
        "id": "3lTEYpU_KMMo",
        "outputId": "47ec0c7b-982a-4ff3-df06-58ad9a976d0a"
      },
      "execution_count": null,
      "outputs": [
        {
          "output_type": "stream",
          "name": "stderr",
          "text": [
            "100%|██████████| 1.00/1.00 [00:00<00:00, 7.75it/s]\n"
          ]
        },
        {
          "output_type": "execute_result",
          "data": {
            "text/plain": [
              "\"Let's translate a few sentences\""
            ],
            "application/vnd.google.colaboratory.intrinsic+json": {
              "type": "string"
            }
          },
          "metadata": {},
          "execution_count": 6
        }
      ]
    },
    {
      "cell_type": "markdown",
      "source": [
        "## Get the Data"
      ],
      "metadata": {
        "id": "uT1cGDqVT5YI"
      }
    },
    {
      "cell_type": "code",
      "source": [
        "url = \"https://www.idnes.cz/zpravy/zahranicni/izrael-palestina-gaza-egypt-vysidleni.A231030_061157_zahranicni_vlc\"\n",
        "\n",
        "from newsplease import NewsPlease\n",
        "article = NewsPlease.from_url(url)\n",
        "text = article.maintext"
      ],
      "metadata": {
        "id": "DxmDSQ2oLSz2"
      },
      "execution_count": null,
      "outputs": []
    },
    {
      "cell_type": "code",
      "source": [
        "translation = model.translate(text, target_lang = \"en\", show_progress_bar = True, max_length=1000)"
      ],
      "metadata": {
        "colab": {
          "base_uri": "https://localhost:8080/"
        },
        "id": "g-BdGTF5LXG9",
        "outputId": "8ed1365a-4587-47df-a3dc-8fb9d7eeed7b"
      },
      "execution_count": null,
      "outputs": [
        {
          "output_type": "stream",
          "name": "stderr",
          "text": [
            "64it [00:02, 23.78it/s]\n"
          ]
        }
      ]
    },
    {
      "cell_type": "code",
      "source": [
        "print(translation)"
      ],
      "metadata": {
        "colab": {
          "base_uri": "https://localhost:8080/"
        },
        "id": "IYqX7iI-Lxrc",
        "outputId": "929034e5-faa5-4d48-fef0-44defaf3f2b8"
      },
      "execution_count": null,
      "outputs": [
        {
          "output_type": "stream",
          "name": "stdout",
          "text": [
            "The document draws attention to the likely difficulties of international approval of such a step, but at the same time the forced transfer of the population justifies as a solution the problem of refugees seeking shelter from the war.\n",
            "Israel is engaged in massive air and ground attacks in Gaza as a retaliation for the massacres of the Palestinian radical Hamas movement in Israel of 7 October, in which 1,400 people died, mostly civilians.\n",
            "Israel's army reported that, in the framework of the anti-offensive in Gaza Strip, its ground forces killed tens of terrorists on Monday, reported by AFP. According to Israel's forces, the armed forces were barricaded in houses and tunnels and tried to attack Israeli soldiers, written by the DPA. The Israeli army's claim cannot be independently verified.\n",
            "Check out our other live broadcasts Follow on iDNES.tv\n",
            "One of the aircraft led by ground troops bombed a building where more than 20 enemy fighters were hiding. In total, the Israeli army has attacked more than 600 targets of the Palestinian radical Hamas movement in recent days, including weapons warehouses, anti-tank missile launch sites and the movement base.\n",
            "On Sunday CNN announced that, based on an analysis of videos published by the Israeli party, Israeli soldiers advanced more than three kilometers inside the Gaza Strip. That's about 40 kilometers long and up to 12 kilometers wide.\n",
            "According to witnesses, Israeli tanks advanced to the outskirts of Gaza and occupied a major road connecting Gaza from the north to the south, writes AFP.\n",
            "The material also presents a couple of other possible solutions. One of them would be to let the Palestinian Authority in Gaza, which now controls parts of the West Bank, rule after the end of the war aimed at destroying Hamas. The second is to support another local regime.\n",
            "Both of these variants for a narrow coastal zone, in which the Israeli attacks have already claimed over 8,000 victims, most of the children, then rejects the document. One of the main reasons is that these options would not serve as a sufficient deterrent to further attacks on Israel.\n",
            "According to The Times of Israel, Israel's government reduces the importance of the document. Prime Minister Benjamin Netanyahu's office told Haarec that the material represents a starting point on this issue, which is not being dealt with by the authorities now because it focuses on the war and not on what will be the day after it.\n",
            "Palestinians are at risk of displacement scenarios, not least because it reminds them of 1948 and 1967, when hundreds of thousands have left Palestinian territories. In the first Arab-Israeli war (1948-1949), when Israel was attacked by a coalition of Arab countries, 750,000 Palestinians were expelled or left their homes. To this day, they call it a nakba, or national disaster.\n",
            "After a six - day war in 1967, during which Israel occupied the West Bank, East Jerusalem, and Gaza Strip, and other territories, they were followed by some 320,000 Palestinians. The West Bank of Israel, contrary to international law, is still occupying other Jewish settlements on this territory.\n",
            "During the current conflict, the head of the Palestinian Authority, Mahmoud Abbas, let himself be heard that the Palestinians will not leave their homeland and allow no one to drive them out. Israel's many repeated calls to the people of the northern part of Gaza to leave it and move south of this zone, which is closer to the border with Egypt, probably increased its concerns. Jerusalem justified it by trying to prevent the deaths of civilians on the battlefield.\n",
            "War in Israel Watch more parts on iDNES.tv\n",
            "33 trucks were delivered to Gaza with help\n",
            "33 truckloads of food, water, and medicine were delivered to the Gaza Strip on Sunday from Egypt, which is so far the most in a single day since October 7, when Hamas's radical Palestinian movement attacked Israel.\n",
            "Even so, according to the UN and humanitarian organizations, it would be necessary for about 100 trucks to arrive daily in Gaza, where 2.3 million people live in less than Prague. It was written by AP and DPA agencies. Save the Children Humanitarian Organization reported that since October 7, more children have died in Gaza than in conflicts around the world last year.\n",
            "Israel has cut off the zone from all supplies, including fuel, food, and water. So far, after the appeals of international organizations and western allies of Israel, about 125 trucks have managed to get together through the Rafah border crossing with Egypt.\n",
            "But even at this transition, according to AP, Israel allows only a small part of the ready-to-use assistance to flow to Gaza. Prosecutor of the International Criminal Court (ICC) Karim Khan also warned on Sunday that defending humanitarian aid for a narrow zone on the Mediterranean coast could be considered a war crime.\n",
            "Reuters, referring to Jerusalem, wrote that Israel will allow a significantly larger supply of aid to the region in the coming days. Before October 7, humanitarian aid was carried to Gaza, which had already faced a partial blockade, and 500 trucks a day.\n",
            "The nonprofit organization Save the Children, referring to available numbers, reported that at least 3195 children have died in Gaza in the last three weeks, which is more than usual in armed conflicts around the world throughout the year. Last year, in 24 different countries, according to the UN Secretary-General's report, 2985 died, a year earlier, 2515. In 2020, children killed in conflicts worldwide were 2674.\n",
            "Three weeks of violence ripped children out of their families and shattered their lives at an unimaginable rate. The figures are appalling, and given that the violence in Gaza is not only continuing, but is escalating right now, many other children remain in serious danger, mentioned by the representative of the organization for the Palestinian Territories, Jason Lee. He thinks it's necessary to stop the fighting.\n",
            "Raids in Jianin\n",
            "At the same time, Israel's forces carried out other armed raids on Monday nights in Jánín, north of the West Bank, killing at least three Palestinians. One of them is the leader of the local branch of the Islamist group Islamic Jihad. News server The Times of Israel reported on it.\n",
            "The night action of Israel in Jánín was also confirmed by the news server Al-Jazier, according to which it was one of the largest raids since the beginning of the war in Gaza. According to sources of Al-Jazeera, four people were killed and many others suffered injuries. Soldiers have arrested dozens of people.\n",
            "Israel's forces are still in the refugee camp in Jianin, where footage appeared, with military bulldozers near the hospital and others destroying civilian buildings, added Al-Jazir.\n",
            "The official Palestinian news server WAFA wrote that about a hundred military vehicles drove into Jánín last night along with bulldozers. At the same time, the Israelis attacked with the help of a drone.\n"
          ]
        }
      ]
    },
    {
      "cell_type": "markdown",
      "source": [
        "Multiple urls at once"
      ],
      "metadata": {
        "id": "V727_TvcT9no"
      }
    },
    {
      "cell_type": "code",
      "source": [
        "urls = [\n",
        "    \"https://www.idnes.cz/zpravy/zahranicni/izrael-palestina-gaza-egypt-vysidleni.A231030_061157_zahranicni_vlc\",\n",
        "    \"https://www.seznamzpravy.cz/clanek/domaci-politika-bartos-hypoteky-pro-mlade-nejsou-na-stole-cestu-vidim-v-dostupnem-najmu-239011\"\n",
        "]"
      ],
      "metadata": {
        "id": "y-QdW0DcMeDT"
      },
      "execution_count": null,
      "outputs": []
    },
    {
      "cell_type": "code",
      "source": [
        "articles = []\n",
        "for url in urls:\n",
        "  article = NewsPlease.from_url(url)\n",
        "  articles.append(article)"
      ],
      "metadata": {
        "id": "iWEHSxPOMBo0"
      },
      "execution_count": null,
      "outputs": []
    },
    {
      "cell_type": "markdown",
      "source": [
        "Extract elements from a NewsPlease object"
      ],
      "metadata": {
        "id": "DvBqo6jYUbfI"
      }
    },
    {
      "cell_type": "code",
      "source": [
        "for_translation = []\n",
        "\n",
        "for article in articles:\n",
        "  for_translation.append(article.maintext)\n",
        "\n",
        "titles = []\n",
        "\n",
        "for article in articles:\n",
        "  titles.append(article.title)\n"
      ],
      "metadata": {
        "id": "V9wBHV9XM1vi"
      },
      "execution_count": null,
      "outputs": []
    },
    {
      "cell_type": "code",
      "source": [
        "for_translation"
      ],
      "metadata": {
        "colab": {
          "base_uri": "https://localhost:8080/"
        },
        "id": "VVJ3NaVZNLlR",
        "outputId": "3cb3db7c-fe53-4f09-f4e3-a80b68f44df5"
      },
      "execution_count": null,
      "outputs": [
        {
          "output_type": "execute_result",
          "data": {
            "text/plain": [
              "['Dokument upozorňuje na pravděpodobné potíže mezinárodního schválení takového kroku, ale zároveň nucený transfer obyvatel ospravedlňuje jako řešení problému uprchlíků, kteří hledají úkryt před válkou.\\nIzrael v Gaze podniká rozsáhlé letecké i pozemní útoky jako odvetu za masakry palestinského radikálního hnutí Hamás v Izraeli ze 7. října, při nichž zemřelo 1 400 lidí, převážně civilistů.\\nIzraelská armáda uvedla, že v rámci protiofenzívy v Pásmu Gazy její pozemní síly v noci na pondělí zabily „desítky teroristů“, uvedla agentura AFP. Ozbrojenci byli podle vyjádření izraelských sil zabarikádovaní v domech a tunelech a snažili se útočit na izraelské vojáky, napsala DPA. Tvrzení izraelské armády nelze nezávisle ověřit.\\nPodívejte se i na naše další živé přenosy Sledovat na iDNES.tv\\nJeden z letounů navedený pozemními jednotkami bombardoval budovu, v níž se skrývalo více než 20 nepřátelských bojovníků. Celkem izraelská armáda za poslední dny zaútočila na více než 600 cílů palestinského radikálního hnutí Hamás, byly mezi nimi sklady zbraní, místa pro odpalování protitankových raket a základny hnutí.\\nAmerická televize CNN v neděli informovala, že na základě analýzy videí, které zveřejnila izraelská strana, postoupili izraelští vojáci o více než tři kilometry dovnitř Pásma Gazy. To je dlouhé asi 40 kilometrů a široké až 12 kilometrů.\\nIzraelské tanky podle svědků postoupily na okraj města Gazy a obsadily významnou silnici, která Pásmo Gazy spojuje ze severu na jih, píše AFP.\\nMateriál předkládá i dvojici jiných možných řešení. Jedním z nich by bylo nechat po skončení války, jejímž cílem je zničit Hamás, v Gaze vládnout palestinskou samosprávu, která nyní kontroluje části Západního břehu. Druhým pak podpořit jiný místní režim.\\nObě tyto varianty pro úzké pobřežní pásmo, v němž už si izraelské útoky vyžádaly přes 8 tisíc obětí, z velké části dětí, pak dokument ale zavrhuje. Jedním z hlavních důvodů je to, že by tyto možnosti nesloužily jako dostatečné odstrašení před dalšími útoky na Izrael.\\nIzraelská vláda význam dokumentu podle The Times of Israel snižuje. Kancelář premiéra Benjamina Netanjahua deníku Haarec řekla, že materiál představuje „počáteční úvahy“ týkající se této otázky, kterými se teď úřady nezabývají, protože se soustředí na válku, a ne na to, co bude den po ní.\\nPalestinci se scénáře vysídlení hrozí, v neposlední řadě proto, že jim připomíná roky 1948 a 1967, kdy jich statisíce opustily palestinská území. V první arabsko-izraelské válce (1948-1949), kdy na Izrael zaútočila koalice arabských zemí, opustilo své domovy nebo z nich bylo vyhnáno 750 tisíc Palestinců. Dodnes to označují za nakbu, neboli národní katastrofu.\\nPo šestidenní válce v roce 1967, během které Izrael obsadil Západní břeh, východní Jeruzalém i Pásmo Gazy a další území, je následovalo dalších asi 320 tisíc Palestinců. Západní břeh Izrael v rozporu s mezinárodním právem okupuje dodnes a na tomto území staví stále další židovské osady.\\nŠéf palestinské samosprávy Mahmúd Abbás se během nynějšího konfliktu nechal slyšet, že Palestinci neopustí svou vlast a nedovolí nikomu, aby je vyhnal. Jeho obavy zřejmě zvýšila i izraelská mnohokrát opakovaná výzva obyvatelům severní části Gazy, aby ji opustili a přesunuli se na jih tohoto pásma, tedy blíže k hranicím s Egyptem. Jeruzalém ji zdůvodnil tím, že chce zabránit úmrtí civilistů na bojišti.\\nVálka v Izraeli Sledovat další díly na iDNES.tv\\nDo Gazy se dostalo 33 kamionů s pomocí\\nDo Pásma Gazy se v neděli z Egypta dostalo 33 kamionů s jídlem, vodou a léky, což je zatím nejvíce za jediný den od 7. října, kdy radikální palestinské hnutí Hamás zaútočilo na Izrael.\\nI tak je to ale podle OSN a humanitárních organizací málo a bylo by třeba, aby do Gazy, v níž na území menším než Praha žije 2,3 milionu lidí, denně přijelo kolem 100 kamionů s pomocí. Napsaly to agentury AP a DPA. Humanitární organizace Save the Children uvedla, že v Gaze od 7. října zemřelo více dětí než loni v konfliktech na celém světě.\\nIzrael pásmo odřízl od veškerých dodávek, a to včetně pohonných hmot, potravin i vody. Po apelech mezinárodních organizací i západních spojenců Izraele se zatím do Gazy přes hraniční přechod Rafáh s Egyptem podařilo dostat dohromady kolem 125 kamionů s pomocí.\\nI na tomto přechodu však Izrael podle AP povoluje, aby do Gazy proudila jen malá část připravené pomoci. Prokurátor Mezinárodního trestního soudu (ICC) Karim Khan i proto v neděli varoval, že bránit humanitární pomoci pro úzké pásmo na pobřeží Středozemního moře by mohlo být posuzováno jako válečný zločin.\\nAgentura Reuters s odvoláním na Jeruzalém napsala, že Izrael v příštích dnech povolí výrazně větší přísun pomoci do oblasti. Před 7. říjnem vozilo humanitární pomoc do Gazy, která už předtím čelila částečné blokádě, i 500 nákladních aut denně.\\nNezisková organizace Save the Children s odvoláním na dostupná čísla uvedla, že v Gaze za poslední tři týdny zemřelo nejméně 3195 dětí, což je více než jich běžně umírá v ozbrojených konfliktech po celém světě za celý rok. Loni jich ve 24 různých zemích podle zprávy generálního tajemníka OSN zemřelo 2985, rok předtím 2515. V roce 2020 dětí zabitých v konfliktech na celém světě bylo 2674.\\n„Tři týdny násilí vytrhly děti z rodin a nepředstavitelnou rychlostí rozvrátily jejich životy. Čísla jsou otřesná a vzhledem k tomu, že násilí v Gaze nejen pokračuje, ale právě teď se stupňuje, zůstává mnoho dalších dětí ve vážném ohrožení,“ uvedl představitel organizace pro palestinská území Jason Lee. Je podle něj nutné zastavit boje.\\nZátahy v Džanínu\\nIzraelské síly v noci na pondělí zároveň provedly další ozbrojené zátahy v Džanínu na severu Západního břehu Jordánu, při kterých zabily nejméně tři Palestince. Jedním z nich je vůdce místní odnože islamistické skupiny Islámský džihád. Informoval o tom zpravodajský server The Times of Israel.\\nNoční akci Izraele v Džanínu potvrdil také zpravodajský server Al-Džazíra, podle nějž se jednalo o jeden z nejrozsáhlejších zátahů od začátku války v Gaze. Podle zdrojů Al-Džazíry byly zabity čtyři osoby a řada dalších utrpěla zranění. Vojáci zatkli desítky osob.\\nIzraelské síly jsou stále v uprchlickém táboře v Džanínu, odkud se objevily záběry, na nichž jsou vojenské buldozery v blízkosti nemocnice a další ničí civilní budovy, dodala Al-Džazíra.\\nOficiální palestinský zpravodajský server WAFA napsal, že do Džanínu v noci vjelo asi sto vojenských vozidel společně s buldozery. Zároveň Izraelci podnikli útok s pomocí dronu.',\n",
              " '„Nemyslím si, že na to dojde v době, kdy hypotéky šly takto nahoru. Já vidím cestu přes podporu obnovy obecního bydlení a dostupné nájemní bydlení,“ říká Bartoš v rozhovoru pro Seznam Zprávy.\\nPrávě na nájemní bydlení se teď Bartoš soustředí: rozjíždí financování pro radnice a pracuje na tom, aby mohli lidé své byty k pronajmutí svěřovat obcím. Chystá i velké změny v nájemních smlouvách – skončit má řetězení krátkodobých smluv, aby měli nájemníci jistotu dlouhodobějšího nájmu.\\nToho, že by opatření mohlo mít opačný efekt – tedy že majitelé raději budou hledat nové nájemníky než přistupovat na dlouhodobý pronájem – se neobává.\\n„Krátkodobé smlouvy jsou využívané kvůli tomu, že pronajímatelům snižují míru nejistoty. My ji chceme snížit tím, že zavedeme rozkaz k vyklizení – cílem je, aby byl neplatič do dvou měsíců od zahájení řízení o vyklizení pryč,“ dodává Bartoš.\\nV programovém prohlášení máte zvýhodněné hypotéky pro mladé. Jak to vypadá, budou nakonec?\\nTam by musela být dohoda Ministerstva financí a bankovního segmentu. Nemyslím si, že na ně dojde v době, kdy hypotéky šly takhle nahoru. Já na Ministerstvu pro místní rozvoj vidím cestu přes podporu obnovy obecního bydlení a přes program Evropské komise na dostupné nájemní bydlení.\\nNicméně v programovém prohlášení je máte. Takže se na tom nepracuje v tuto chvíli?\\nV našem rezortu tento plán nemáme, není to součástí reformy Bydlení pro život.\\nAni s Ministerstvem financí jste to neřešili?\\nNení to na stole. Spíš si myslím, že je to na tom bankovním sektoru.\\nJak se daří váš plán, aby mohli majitelé, kteří nechtějí pronajímat sami, dát své byty do správy obcím?\\nBude to v chystaném zákoně o podpoře v bydlení, který právě teď posílám na vládu. Ale ono to frčí v některých městech i bez něj. V Česku je v bytových domech 200 tisíc dlouhodobě neobsazených bytů, z nichž některé majitelé nepronajímají, protože je to pro ně riskantní. A ukazuje se, že kdyby měli záruku platby a nemuseli se o to starat, tak by pronajali. Ty záruky by převzaly na dobrovolné bázi obce a vznikl by jakýsi kvazibytový fond.\\nObce se ale právě těch záruk bojí. Co když nájemník nebude platit nebo ten byt poškodí?\\nTo rozhodně nepůjde ze zdrojů obcí. Vznikl by nějaký garanční fond, kam by ty prostředky dal stát. My ale máme data z průzkumů a z nich vychází, že 95 procent lidí platí včas a není s nimi žádný objektivní problém. Lidí, se kterými byste se museli vyloženě o vystěhování soudit, je čtvrt procenta.\\nAni opotřebení bytů – i když započítáte nějakou extrémní situaci, že ho někdo úplně zničí – není tak velké. Z šetření Obecní bydlení, které jsme realizovali se Svazem měst a obcí, vyplývá, že téměř třetina obcí by zvažovala využití garancí soukromým pronajímatelům bydlení, a to za podmínky finančního zajištění ze strany státu.\\nVy jste teď představili prvotní návrh, který má upravit podmínky pro nájmy. Například smlouvu na krátkodobý pronájem do tří let má být možné uzavřít jen dvakrát po sobě, pak už má být smlouva delší, nebo na dobu neurčitou.\\nMáme data, a to i ze strany pronajímatelů, že ideální je pro ně dlouhodobý platící nájemce. Jak už jsem říkal, těch je naprostá většina. Přesto je v tuhle chvíli, byť pro to není žádný objektivní důvod, milion lidí, kteří mají smlouvu kratší než dvouletou. A to je velká míra nejistoty, zvlášť pro rodiny s dětmi. Časté stěhování je problém pro všechny, a především děti mohou mít potíže s častým střídáním kolektivu.\\nNebojíte se, že to ve výsledku může mít opačný efekt? Že je naopak majitel vyhodí a najde si radši nového nájemníka, kterému bude moci dát zase krátkodobou smlouvu?\\nKrátkodobé smlouvy jsou využívané kvůli tomu, že pronajímatelům snižují míru nejistoty. Což tak v praxi úplně nefunguje, protože dnes když máte neplatiče, který se odmítá vystěhovat i po uplynutí smlouvy, tak se o to stejně musíte soudit půl roku až dva.\\nMy chceme nejistotu na straně pronajímatele snížit doopravdy a ve spolupráci s Ministerstvem spravedlnosti zavést rozkaz k vyklizení. A cílem je, aby v případě neplatičů byl ten člověk do dvou měsíců od zahájení řízení o vyklizení pryč.\\nTakže doufáte, že tím uklidníte pronajímatele a oni budou přístupnější k dlouhodobým smlouvám?\\nObě skupiny, jak pronajímatelé, tak nájemci, hovoří o nejistotě. A ta by se měla snížit na obou stranách. Jedno bez druhého nemůže fungovat. A podívejte se na praxi jinde – když máte zaměstnance, který dobře funguje, tak ho taky nevyhodíte jen proto, že byste mu musela po nějaké zkušební době a roční smlouvě dát smlouvu na dobu neurčitou. Když navíc máte zákonné možnosti, jak mu dát v případě problémů výpověď.\\nNebude ale vždycky skupina lidí, kteří budou v očích pronajímatelů rizikoví? Nebo se majitelé zkrátka budou bát, že i dosud spolehlivý nájemník se může dostat do potíží?\\nOna je to mozaika víc opatření. Zákon o podpoře v bydlení vyčleňuje prostředky na sociální práci. Budou tam poradenská centra, která pomohou řešit právě situace, kdy třeba nájemníkovi zemře partner, přijde o práci. Pomohou mu překlenout těžké životní období tak, aby o bydlení nepřišel, například sociálními dávkami. To by také mělo zvýšit jistotu na straně pronajímatelů.\\nVraťme se k rozkazu k vyklizení bytu. Říkal jste, že ambice je do dvou měsíců, ale ze strany majitelů zaznívá kritika, že ten návrh zas takové zrychlení nepřinese. Volají například po fikci doručení, aby se nájemník nemohl rozhodnutí vyhýbat.\\nDebatujeme o tom s Ministerstvem spravedlnosti, musí to být jednoduché. Obecně je to problém soudů, jejich rychlosti a zatížení. Ale ta ambice je, aby do dvou měsíců byl neplatič vystěhován.\\nJan Rafaj, šéf Svazu průmyslu a zároveň ředitel největšího pronajímatele v Česku Heimstaden, zmínil možnost po vzoru jiných států zřídit speciální úřad pro neplatiče. Který by ulehčil soudům a rozhodoval rychleji.\\nNemyslím si, že by byla ambice v tuto chvíli dělat nějaký speciální úřad. Zaprvé musíme zachovat právo na spravedlivý proces. Zadruhé je to podobné jako v jiných smluvních vztazích, kdy někdo nedodrží část dohody. Například vám někdo nedodá zboží nebo nezaplatí za služby. A na to taky nemáme speciální úřady.\\nLetos jste spustili dotační program Nájemní bydlení pro obce s 800 miliony korun. Jaký je o to zájem?\\nNakonec je tam přes miliardu. Je o to velký zájem, kapacita už je vyčerpaná a jakmile budou další peníze, budeme je tam posílat. Radost mám z toho, že 65 % nejsou přímé dotace, ale finanční nástroje – tedy výhodné úvěry. Takže to není dotační doping, ale ty peníze se budou časem vracet, budou se otáčet, i když v dlouhodobém horizontu.\\nVládní koalice rozhodla, že příští rok už nebude dotovat ceny energií. Ministr financí Zbyněk Stanjura růst cen neočekává, ministr průmyslu Josef Síkela ale tenhle optimismus nesdílí. Neobáváte se vy, jako Piráti, růstu cen energií?\\nNěkteré věci nemůžete předvídat, třeba teroristický útok Hamásu na Izrael, který má samozřejmě vliv na celé území i ceny ropy. Já bych byl spíš opatrný tvrdit, že ceny budou nižší. Byl bych spíš pesimista, a dokonce si myslím, že může dojít k drobnému zvýšení, což samozřejmě veřejností bude vnímáno negativně.\\nKdyby k nějakému zdražení došlo, jste za Piráty ochotní diskutovat o nějakém návratu podpory?']"
            ]
          },
          "metadata": {},
          "execution_count": 45
        }
      ]
    },
    {
      "cell_type": "markdown",
      "source": [
        "Translate stream"
      ],
      "metadata": {
        "id": "dqVG9rcVUmaf"
      }
    },
    {
      "cell_type": "code",
      "source": [
        "translated_texts = []\n",
        "for t in model.translate_stream(for_translation, target_lang = \"en\", show_progress_bar = True, batch_size=5):\n",
        "    print(t)\n",
        "    print(\"___________\")\n",
        "    translated_texts.append(t)"
      ],
      "metadata": {
        "colab": {
          "base_uri": "https://localhost:8080/"
        },
        "id": "jejUF0zMNRfI",
        "outputId": "5f17df2f-5d00-4bfe-ba68-c0c5ee640032"
      },
      "execution_count": null,
      "outputs": [
        {
          "output_type": "stream",
          "name": "stderr",
          "text": [
            "100%|██████████| 2/2 [00:00<00:00, 3535.02it/s]\n"
          ]
        },
        {
          "output_type": "stream",
          "name": "stdout",
          "text": [
            "The document draws attention to the likely difficulties of international approval of such a step, but at the same time the forced transfer of the population justifies as a solution the problem of refugees seeking shelter from the war.\n",
            "Israel is engaged in massive air and ground attacks in Gaza as a retaliation for the massacres of the Palestinian radical Hamas movement in Israel of 7 October, in which 1,400 people died, mostly civilians.\n",
            "Israel's army reported that, in the framework of the anti-offensive in Gaza Strip, its ground forces killed tens of terrorists on Monday, reported by AFP. According to Israel's forces, the armed forces were barricaded in houses and tunnels and tried to attack Israeli soldiers, written by the DPA. The Israeli army's claim cannot be independently verified.\n",
            "Check out our other live broadcasts Follow on iDNES.tv\n",
            "One of the aircraft led by ground troops bombed a building where more than 20 enemy fighters were hiding. In total, the Israeli army has attacked more than 600 targets of the Palestinian radical Hamas movement in recent days, including weapons warehouses, anti-tank missile launch sites and the movement base.\n",
            "On Sunday CNN announced that, based on an analysis of videos published by the Israeli party, Israeli soldiers advanced more than three kilometers inside the Gaza Strip. That's about 40 kilometers long and up to 12 kilometers wide.\n",
            "According to witnesses, Israeli tanks advanced to the outskirts of Gaza and occupied a major road connecting Gaza from the north to the south, writes AFP.\n",
            "The material also presents a couple of other possible solutions. One of them would be to let the Palestinian Authority in Gaza, which now controls parts of the West Bank, rule after the end of the war aimed at destroying Hamas. The second is to support another local regime.\n",
            "Both of these variants for a narrow coastal zone, in which the Israeli attacks have already claimed over 8,000 victims, most of the children, then rejects the document. One of the main reasons is that these options would not serve as a sufficient deterrent to further attacks on Israel.\n",
            "According to The Times of Israel, Israel's government reduces the importance of the document. Prime Minister Benjamin Netanyahu's office told Haarec that the material represents a starting point on this issue, which is not being dealt with by the authorities now because it focuses on the war and not on what will be the day after it.\n",
            "Palestinians are at risk of displacement scenarios, not least because it reminds them of 1948 and 1967, when hundreds of thousands have left Palestinian territories. In the first Arab-Israeli war (1948-1949), when Israel was attacked by a coalition of Arab countries, 750,000 Palestinians were expelled or left their homes. To this day, they call it a nakba, or national disaster.\n",
            "After a six - day war in 1967, during which Israel occupied the West Bank, East Jerusalem, and Gaza Strip, and other territories, they were followed by some 320,000 Palestinians. The West Bank of Israel, contrary to international law, is still occupying other Jewish settlements on this territory.\n",
            "During the current conflict, the head of the Palestinian Authority, Mahmoud Abbas, let himself be heard that the Palestinians will not leave their homeland and allow no one to drive them out. Israel's many repeated calls to the people of the northern part of Gaza to leave it and move south of this zone, which is closer to the border with Egypt, probably increased its concerns. Jerusalem justified it by trying to prevent the deaths of civilians on the battlefield.\n",
            "War in Israel Watch more parts on iDNES.tv\n",
            "33 trucks were delivered to Gaza with help\n",
            "33 truckloads of food, water, and medicine were delivered to the Gaza Strip on Sunday from Egypt, which is so far the most in a single day since October 7, when Hamas's radical Palestinian movement attacked Israel.\n",
            "Even so, according to the UN and humanitarian organizations, it would be necessary for about 100 trucks to arrive daily in Gaza, where 2.3 million people live in less than Prague. It was written by AP and DPA agencies. Save the Children Humanitarian Organization reported that since October 7, more children have died in Gaza than in conflicts around the world last year.\n",
            "Israel has cut off the zone from all supplies, including fuel, food, and water. So far, after the appeals of international organizations and western allies of Israel, about 125 trucks have managed to get together through the Rafah border crossing with Egypt.\n",
            "But even at this transition, according to AP, Israel allows only a small part of the ready-to-use assistance to flow to Gaza. Prosecutor of the International Criminal Court (ICC) Karim Khan also warned on Sunday that defending humanitarian aid for a narrow zone on the Mediterranean coast could be considered a war crime.\n",
            "Reuters, referring to Jerusalem, wrote that Israel will allow a significantly larger supply of aid to the region in the coming days. Before October 7, humanitarian aid was carried to Gaza, which had already faced a partial blockade, and 500 trucks a day.\n",
            "The nonprofit organization Save the Children, referring to available numbers, reported that at least 3195 children have died in Gaza in the last three weeks, which is more than usual in armed conflicts around the world throughout the year. Last year, in 24 different countries, according to the UN Secretary-General's report, 2985 died, a year earlier, 2515. In 2020, children killed in conflicts worldwide were 2674.\n",
            "Three weeks of violence ripped children out of their families and shattered their lives at an unimaginable rate. The figures are appalling, and given that the violence in Gaza is not only continuing, but is escalating right now, many other children remain in serious danger, mentioned by the representative of the organization for the Palestinian Territories, Jason Lee. He thinks it's necessary to stop the fighting.\n",
            "Raids in Jianin\n",
            "At the same time, Israel's forces carried out other armed raids on Monday nights in Jánín, north of the West Bank, killing at least three Palestinians. One of them is the leader of the local branch of the Islamist group Islamic Jihad. News server The Times of Israel reported on it.\n",
            "The night action of Israel in Jánín was also confirmed by the news server Al-Jazier, according to which it was one of the largest raids since the beginning of the war in Gaza. According to sources of Al-Jazeera, four people were killed and many others suffered injuries. Soldiers have arrested dozens of people.\n",
            "Israel's forces are still in the refugee camp in Jianin, where footage appeared, with military bulldozers near the hospital and others destroying civilian buildings, added Al-Jazir.\n",
            "The official Palestinian news server WAFA wrote that about a hundred military vehicles drove into Jánín last night along with bulldozers. At the same time, the Israelis attacked with the help of a drone.\n",
            "___________\n",
            "© I don't think it's going to happen at a time when mortgages went up like this. I see the way through the support of the restoration of municipal housing and available rental housing, said Bartoš in an interview for the News List.\n",
            "Bartoš is now focusing on rental housing: he is starting funding for city halls and is working to enable people to entrust their apartments to municipalities. There are also major changes in lease contracts that will end with chaining short-term contracts so that tenants can be sure of a longer-term lease.\n",
            "The fact that the measure could have the opposite effect, therefore, that the owners would rather look for new tenants than approach long-term leases is not afraid.\n",
            "□ Short - term contracts are used to reduce the level of uncertainty for landlords. We want to reduce it by introducing an order to evacuate the target is to have the non-payer gone within two months of the opening of the eviction procedure, adds Bartoš.\n",
            "In your programming declaration, you have subsidised mortgages for young people. What does it look like they're gonna end up?\n",
            "There would have to be an agreement between the Ministry of Finance and the banking segment. I don't think it's gonna happen at the time the mortgages went up like this. At the Ministry of Regional Development, I see the way through the promotion of the renewal of municipal housing and through the European Commission's programme for affordable rental housing.\n",
            "However, you have them in your programming statement. So it's not working at this point?\n",
            "We don't have this plan in our resort, it's not part of the reform of Living for Life.\n",
            "You didn't even deal with the Treasury?\n",
            "It's not on the table. Actually, I think it's in the banking sector.\n",
            "How is your plan going so that owners who do not want to rent themselves can put their apartments in the administration of municipalities?\n",
            "It will be in the upcoming Housing Support Act, which I am sending to the government right now. But it runs in some cities and without it. In the Czech Republic there are 200,000 long-term vacant apartments, some of which are not rented because it is risky for them. And it turns out if they had a guarantee of payment and didn't have to worry about it, they'd rent it. These guarantees would be taken over on a voluntary basis by the municipality and would create a quasi-residential fund.\n",
            "But the people are afraid of the guarantees. What if the tenant doesn't pay or damages the apartment?\n",
            "This will certainly not come from the sources of the municipalities. There would be some kind of guarantee fund where the state would put the funds. But we have data from the polls, and from them, 95 percent of people pay on time and there is no objective problem with them. The people you'd have to sue for eviction are a quarter percent.\n",
            "Even the wear and tear of the apartments, even if you count some extreme situation, that someone completely destroys it is not so great. The investigation of Municipal Housing, carried out with the Union of Towns and Municipalities, shows that almost a third of municipalities would consider using guarantees to private landlords of housing, on the condition of financial collateral by the State.\n",
            "You have now presented the initial proposal to adjust the terms of the lease. For example, a short-term lease contract under three years should be possible to conclude only twice in a row, then the contract should be longer or for an indefinite period.\n",
            "We have data, even from landlords, that is ideal for them long-term paying tenants. Like I said, most of them are. Yet at this point, there is no objective reason for this, a million people with a contract shorter than two years old. And that is a great degree of uncertainty, especially for families with children. Often moving is a problem for everyone, and especially children can have difficulty changing the collective frequently.\n",
            "Aren't you afraid it might have the opposite effect? That the owner throws them out and prefers to find a new tenant who can get a short-term contract again?\n",
            "Short-term contracts are used to reduce the level of uncertainty for landlords. Which doesn't really work, because now that you've got a non-payer who refuses to move out after the end of the contract, you still have to sue for half a year or two.\n",
            "We want to reduce the uncertainty on the landlord's side really and in cooperation with the Ministry of Justice to introduce an order to evacuate. And the goal is that, in the case of nonpayers, that person should be gone within two months of the opening of the eviction procedure.\n",
            "So you're hoping to calm down the landlords, and they'll be more open to long-term contracts?\n",
            "Both groups, both landlords and tenants, are talking about uncertainty. And that should go down on both sides. One can't work without the other. And look at the practice elsewhere when you have an employee who works well, so you don't fire him just because you have to give him an indefinite contract after some trial period and an annual contract. Moreover, when you have legal options to give him notice in case of problems.\n",
            "But won't there always be a group of people who are risky in the eyes of landlords? Or will the owners simply fear that even a reliable tenant can get into trouble?\n",
            "She's a mosaic of more measures. The Housing Support Act sets out the means for social work. There will be counseling centers to help deal with situations where a tenant's partner dies, he loses his job. They will help him to bridge difficult periods of life so that he does not lose his housing, such as social benefits. This should also increase the security on the landlord's side.\n",
            "Let's get back to the order to clear the apartment. You said ambition is within two months, but the critics from the owners say that the proposal doesn't make it that fast. For example, they call for the delivery fiction so that the tenant cannot avoid the decision.\n",
            "We're debating this with the Justice Department. It's gotta be easy. In general, it is the problem of courts, their speed and burden. But the ambition is that within two months a non-payer should be evicted.\n",
            "Jan Rafaj, head of the Confederation of Industry and at the same time director of the largest landlord in the Czech Republic Heimstaden, mentioned the possibility of setting up a special office for non-payers following the model of other states. Which would ease the courts and make decisions faster.\n",
            "I don't think it's an ambition to be a special office at the moment. Firstly, we must maintain the right to a fair trial. Secondly, it is similar to other contractual relationships where someone fails to keep part of the agreement. For example, someone doesn't supply you with goods or pay you for services. And we don't have special authorities for that either.\n",
            "This year you launched a grant program Rent housing for municipalities with 800 million crowns. What's the interest?\n",
            "In the end, there's over a billion. There's a lot of interest, the capacity is exhausted, and as soon as there's more money, we'll be sending it in. I am pleased that 65 percent are not direct subsidies, but financial instruments are therefore advantageous loans. So it's not doping, but the money's gonna come back in time, they're gonna turn around, even in the long run.\n",
            "The government coalition has decided not to subsidize energy prices next year. Minister of Finance Zbyněk Stanjura does not expect price growth, but Minister of Industry Josef Síkela does not share this optimism. Aren't you, like the Pirates, afraid of rising energy prices?\n",
            "Some things you cannot predict, such as Hamas's terrorist attack on Israel, which, of course, has an impact on the entire territory and oil prices. I'd be more careful to say the prices will be lower. I would rather be a pessimist, and I even think there may be a slight increase, which, of course, will be perceived negatively by the public.\n",
            "If there's any price increase, are you willing to discuss any return of support for the Pirates?\n",
            "___________\n"
          ]
        }
      ]
    },
    {
      "cell_type": "markdown",
      "source": [
        "Export to `.csv`\n"
      ],
      "metadata": {
        "id": "QesHxxhoUzIG"
      }
    },
    {
      "cell_type": "code",
      "source": [
        "translated_df = pd.DataFrame(list(zip(titles, for_translation, translated_texts, urls)),\n",
        "                             columns = ['title', 'text', 'translated', 'url'])\n"
      ],
      "metadata": {
        "id": "dVOBXvxLQmkw"
      },
      "execution_count": null,
      "outputs": []
    },
    {
      "cell_type": "code",
      "source": [
        "translated_df"
      ],
      "metadata": {
        "colab": {
          "base_uri": "https://localhost:8080/",
          "height": 112
        },
        "id": "cqCdVlTqSKab",
        "outputId": "24675c48-fd10-450a-990c-fe0e85ed78e5"
      },
      "execution_count": null,
      "outputs": [
        {
          "output_type": "execute_result",
          "data": {
            "text/plain": [
              "                                               title  \\\n",
              "0  Izrael: Palestinci by měli být vysídleni do Eg...   \n",
              "1  Většina nájemníků je spolehlivá, pro krátké sm...   \n",
              "\n",
              "                                                text  \\\n",
              "0  Dokument upozorňuje na pravděpodobné potíže me...   \n",
              "1  „Nemyslím si, že na to dojde v době, kdy hypot...   \n",
              "\n",
              "                                          translated  \\\n",
              "0  The document draws attention to the likely dif...   \n",
              "1  © I don't think it's going to happen at a time...   \n",
              "\n",
              "                                                 url  \n",
              "0  https://www.idnes.cz/zpravy/zahranicni/izrael-...  \n",
              "1  https://www.seznamzpravy.cz/clanek/domaci-poli...  "
            ],
            "text/html": [
              "\n",
              "  <div id=\"df-eba8d89a-f5cc-4b4b-af46-0d15c1b9fd08\" class=\"colab-df-container\">\n",
              "    <div>\n",
              "<style scoped>\n",
              "    .dataframe tbody tr th:only-of-type {\n",
              "        vertical-align: middle;\n",
              "    }\n",
              "\n",
              "    .dataframe tbody tr th {\n",
              "        vertical-align: top;\n",
              "    }\n",
              "\n",
              "    .dataframe thead th {\n",
              "        text-align: right;\n",
              "    }\n",
              "</style>\n",
              "<table border=\"1\" class=\"dataframe\">\n",
              "  <thead>\n",
              "    <tr style=\"text-align: right;\">\n",
              "      <th></th>\n",
              "      <th>title</th>\n",
              "      <th>text</th>\n",
              "      <th>translated</th>\n",
              "      <th>url</th>\n",
              "    </tr>\n",
              "  </thead>\n",
              "  <tbody>\n",
              "    <tr>\n",
              "      <th>0</th>\n",
              "      <td>Izrael: Palestinci by měli být vysídleni do Eg...</td>\n",
              "      <td>Dokument upozorňuje na pravděpodobné potíže me...</td>\n",
              "      <td>The document draws attention to the likely dif...</td>\n",
              "      <td>https://www.idnes.cz/zpravy/zahranicni/izrael-...</td>\n",
              "    </tr>\n",
              "    <tr>\n",
              "      <th>1</th>\n",
              "      <td>Většina nájemníků je spolehlivá, pro krátké sm...</td>\n",
              "      <td>„Nemyslím si, že na to dojde v době, kdy hypot...</td>\n",
              "      <td>© I don't think it's going to happen at a time...</td>\n",
              "      <td>https://www.seznamzpravy.cz/clanek/domaci-poli...</td>\n",
              "    </tr>\n",
              "  </tbody>\n",
              "</table>\n",
              "</div>\n",
              "    <div class=\"colab-df-buttons\">\n",
              "\n",
              "  <div class=\"colab-df-container\">\n",
              "    <button class=\"colab-df-convert\" onclick=\"convertToInteractive('df-eba8d89a-f5cc-4b4b-af46-0d15c1b9fd08')\"\n",
              "            title=\"Convert this dataframe to an interactive table.\"\n",
              "            style=\"display:none;\">\n",
              "\n",
              "  <svg xmlns=\"http://www.w3.org/2000/svg\" height=\"24px\" viewBox=\"0 -960 960 960\">\n",
              "    <path d=\"M120-120v-720h720v720H120Zm60-500h600v-160H180v160Zm220 220h160v-160H400v160Zm0 220h160v-160H400v160ZM180-400h160v-160H180v160Zm440 0h160v-160H620v160ZM180-180h160v-160H180v160Zm440 0h160v-160H620v160Z\"/>\n",
              "  </svg>\n",
              "    </button>\n",
              "\n",
              "  <style>\n",
              "    .colab-df-container {\n",
              "      display:flex;\n",
              "      gap: 12px;\n",
              "    }\n",
              "\n",
              "    .colab-df-convert {\n",
              "      background-color: #E8F0FE;\n",
              "      border: none;\n",
              "      border-radius: 50%;\n",
              "      cursor: pointer;\n",
              "      display: none;\n",
              "      fill: #1967D2;\n",
              "      height: 32px;\n",
              "      padding: 0 0 0 0;\n",
              "      width: 32px;\n",
              "    }\n",
              "\n",
              "    .colab-df-convert:hover {\n",
              "      background-color: #E2EBFA;\n",
              "      box-shadow: 0px 1px 2px rgba(60, 64, 67, 0.3), 0px 1px 3px 1px rgba(60, 64, 67, 0.15);\n",
              "      fill: #174EA6;\n",
              "    }\n",
              "\n",
              "    .colab-df-buttons div {\n",
              "      margin-bottom: 4px;\n",
              "    }\n",
              "\n",
              "    [theme=dark] .colab-df-convert {\n",
              "      background-color: #3B4455;\n",
              "      fill: #D2E3FC;\n",
              "    }\n",
              "\n",
              "    [theme=dark] .colab-df-convert:hover {\n",
              "      background-color: #434B5C;\n",
              "      box-shadow: 0px 1px 3px 1px rgba(0, 0, 0, 0.15);\n",
              "      filter: drop-shadow(0px 1px 2px rgba(0, 0, 0, 0.3));\n",
              "      fill: #FFFFFF;\n",
              "    }\n",
              "  </style>\n",
              "\n",
              "    <script>\n",
              "      const buttonEl =\n",
              "        document.querySelector('#df-eba8d89a-f5cc-4b4b-af46-0d15c1b9fd08 button.colab-df-convert');\n",
              "      buttonEl.style.display =\n",
              "        google.colab.kernel.accessAllowed ? 'block' : 'none';\n",
              "\n",
              "      async function convertToInteractive(key) {\n",
              "        const element = document.querySelector('#df-eba8d89a-f5cc-4b4b-af46-0d15c1b9fd08');\n",
              "        const dataTable =\n",
              "          await google.colab.kernel.invokeFunction('convertToInteractive',\n",
              "                                                    [key], {});\n",
              "        if (!dataTable) return;\n",
              "\n",
              "        const docLinkHtml = 'Like what you see? Visit the ' +\n",
              "          '<a target=\"_blank\" href=https://colab.research.google.com/notebooks/data_table.ipynb>data table notebook</a>'\n",
              "          + ' to learn more about interactive tables.';\n",
              "        element.innerHTML = '';\n",
              "        dataTable['output_type'] = 'display_data';\n",
              "        await google.colab.output.renderOutput(dataTable, element);\n",
              "        const docLink = document.createElement('div');\n",
              "        docLink.innerHTML = docLinkHtml;\n",
              "        element.appendChild(docLink);\n",
              "      }\n",
              "    </script>\n",
              "  </div>\n",
              "\n",
              "\n",
              "<div id=\"df-23f8afe2-5faa-4fef-9e30-cff8d4205976\">\n",
              "  <button class=\"colab-df-quickchart\" onclick=\"quickchart('df-23f8afe2-5faa-4fef-9e30-cff8d4205976')\"\n",
              "            title=\"Suggest charts.\"\n",
              "            style=\"display:none;\">\n",
              "\n",
              "<svg xmlns=\"http://www.w3.org/2000/svg\" height=\"24px\"viewBox=\"0 0 24 24\"\n",
              "     width=\"24px\">\n",
              "    <g>\n",
              "        <path d=\"M19 3H5c-1.1 0-2 .9-2 2v14c0 1.1.9 2 2 2h14c1.1 0 2-.9 2-2V5c0-1.1-.9-2-2-2zM9 17H7v-7h2v7zm4 0h-2V7h2v10zm4 0h-2v-4h2v4z\"/>\n",
              "    </g>\n",
              "</svg>\n",
              "  </button>\n",
              "\n",
              "<style>\n",
              "  .colab-df-quickchart {\n",
              "      --bg-color: #E8F0FE;\n",
              "      --fill-color: #1967D2;\n",
              "      --hover-bg-color: #E2EBFA;\n",
              "      --hover-fill-color: #174EA6;\n",
              "      --disabled-fill-color: #AAA;\n",
              "      --disabled-bg-color: #DDD;\n",
              "  }\n",
              "\n",
              "  [theme=dark] .colab-df-quickchart {\n",
              "      --bg-color: #3B4455;\n",
              "      --fill-color: #D2E3FC;\n",
              "      --hover-bg-color: #434B5C;\n",
              "      --hover-fill-color: #FFFFFF;\n",
              "      --disabled-bg-color: #3B4455;\n",
              "      --disabled-fill-color: #666;\n",
              "  }\n",
              "\n",
              "  .colab-df-quickchart {\n",
              "    background-color: var(--bg-color);\n",
              "    border: none;\n",
              "    border-radius: 50%;\n",
              "    cursor: pointer;\n",
              "    display: none;\n",
              "    fill: var(--fill-color);\n",
              "    height: 32px;\n",
              "    padding: 0;\n",
              "    width: 32px;\n",
              "  }\n",
              "\n",
              "  .colab-df-quickchart:hover {\n",
              "    background-color: var(--hover-bg-color);\n",
              "    box-shadow: 0 1px 2px rgba(60, 64, 67, 0.3), 0 1px 3px 1px rgba(60, 64, 67, 0.15);\n",
              "    fill: var(--button-hover-fill-color);\n",
              "  }\n",
              "\n",
              "  .colab-df-quickchart-complete:disabled,\n",
              "  .colab-df-quickchart-complete:disabled:hover {\n",
              "    background-color: var(--disabled-bg-color);\n",
              "    fill: var(--disabled-fill-color);\n",
              "    box-shadow: none;\n",
              "  }\n",
              "\n",
              "  .colab-df-spinner {\n",
              "    border: 2px solid var(--fill-color);\n",
              "    border-color: transparent;\n",
              "    border-bottom-color: var(--fill-color);\n",
              "    animation:\n",
              "      spin 1s steps(1) infinite;\n",
              "  }\n",
              "\n",
              "  @keyframes spin {\n",
              "    0% {\n",
              "      border-color: transparent;\n",
              "      border-bottom-color: var(--fill-color);\n",
              "      border-left-color: var(--fill-color);\n",
              "    }\n",
              "    20% {\n",
              "      border-color: transparent;\n",
              "      border-left-color: var(--fill-color);\n",
              "      border-top-color: var(--fill-color);\n",
              "    }\n",
              "    30% {\n",
              "      border-color: transparent;\n",
              "      border-left-color: var(--fill-color);\n",
              "      border-top-color: var(--fill-color);\n",
              "      border-right-color: var(--fill-color);\n",
              "    }\n",
              "    40% {\n",
              "      border-color: transparent;\n",
              "      border-right-color: var(--fill-color);\n",
              "      border-top-color: var(--fill-color);\n",
              "    }\n",
              "    60% {\n",
              "      border-color: transparent;\n",
              "      border-right-color: var(--fill-color);\n",
              "    }\n",
              "    80% {\n",
              "      border-color: transparent;\n",
              "      border-right-color: var(--fill-color);\n",
              "      border-bottom-color: var(--fill-color);\n",
              "    }\n",
              "    90% {\n",
              "      border-color: transparent;\n",
              "      border-bottom-color: var(--fill-color);\n",
              "    }\n",
              "  }\n",
              "</style>\n",
              "\n",
              "  <script>\n",
              "    async function quickchart(key) {\n",
              "      const quickchartButtonEl =\n",
              "        document.querySelector('#' + key + ' button');\n",
              "      quickchartButtonEl.disabled = true;  // To prevent multiple clicks.\n",
              "      quickchartButtonEl.classList.add('colab-df-spinner');\n",
              "      try {\n",
              "        const charts = await google.colab.kernel.invokeFunction(\n",
              "            'suggestCharts', [key], {});\n",
              "      } catch (error) {\n",
              "        console.error('Error during call to suggestCharts:', error);\n",
              "      }\n",
              "      quickchartButtonEl.classList.remove('colab-df-spinner');\n",
              "      quickchartButtonEl.classList.add('colab-df-quickchart-complete');\n",
              "    }\n",
              "    (() => {\n",
              "      let quickchartButtonEl =\n",
              "        document.querySelector('#df-23f8afe2-5faa-4fef-9e30-cff8d4205976 button');\n",
              "      quickchartButtonEl.style.display =\n",
              "        google.colab.kernel.accessAllowed ? 'block' : 'none';\n",
              "    })();\n",
              "  </script>\n",
              "</div>\n",
              "    </div>\n",
              "  </div>\n"
            ]
          },
          "metadata": {},
          "execution_count": 69
        }
      ]
    },
    {
      "cell_type": "code",
      "source": [
        "translated_df.to_csv(\"translated.csv\")"
      ],
      "metadata": {
        "id": "2f5Vu_z_QqKo"
      },
      "execution_count": null,
      "outputs": []
    }
  ]
}