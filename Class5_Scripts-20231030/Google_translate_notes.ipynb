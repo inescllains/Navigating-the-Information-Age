{
  "nbformat": 4,
  "nbformat_minor": 0,
  "metadata": {
    "colab": {
      "provenance": [],
      "gpuType": "T4"
    },
    "kernelspec": {
      "name": "python3",
      "display_name": "Python 3"
    },
    "language_info": {
      "name": "python"
    },
    "accelerator": "GPU"
  },
  "cells": [
    {
      "cell_type": "markdown",
      "source": [
        "# Google Translate in Python"
      ],
      "metadata": {
        "id": "0T9i1d-6HPhJ"
      }
    },
    {
      "cell_type": "markdown",
      "source": [
        "Change the runtime type to T4 GPU to make it faster to run."
      ],
      "metadata": {
        "id": "R5YWIy0o57Tr"
      }
    },
    {
      "cell_type": "markdown",
      "source": [
        "### Install packages"
      ],
      "metadata": {
        "id": "xDNVQfFAHdkX"
      }
    },
    {
      "cell_type": "code",
      "source": [
        "!pip install googletrans==4.0.0rc1\n",
        "!pip install news-please"
      ],
      "metadata": {
        "colab": {
          "base_uri": "https://localhost:8080/"
        },
        "id": "RhkE0V_2gNUe",
        "outputId": "1dbb6ee9-7f1f-41d2-c11c-ca2506031158"
      },
      "execution_count": null,
      "outputs": [
        {
          "output_type": "stream",
          "name": "stdout",
          "text": [
            "Collecting googletrans==4.0.0rc1\n",
            "  Downloading googletrans-4.0.0rc1.tar.gz (20 kB)\n",
            "  Preparing metadata (setup.py) ... \u001b[?25l\u001b[?25hdone\n",
            "Collecting httpx==0.13.3 (from googletrans==4.0.0rc1)\n",
            "  Downloading httpx-0.13.3-py3-none-any.whl (55 kB)\n",
            "\u001b[2K     \u001b[90m━━━━━━━━━━━━━━━━━━━━━━━━━━━━━━━━━━━━━━━━\u001b[0m \u001b[32m55.1/55.1 kB\u001b[0m \u001b[31m3.3 MB/s\u001b[0m eta \u001b[36m0:00:00\u001b[0m\n",
            "\u001b[?25hRequirement already satisfied: certifi in /usr/local/lib/python3.10/dist-packages (from httpx==0.13.3->googletrans==4.0.0rc1) (2023.7.22)\n",
            "Collecting hstspreload (from httpx==0.13.3->googletrans==4.0.0rc1)\n",
            "  Downloading hstspreload-2023.1.1-py3-none-any.whl (1.5 MB)\n",
            "\u001b[2K     \u001b[90m━━━━━━━━━━━━━━━━━━━━━━━━━━━━━━━━━━━━━━━━\u001b[0m \u001b[32m1.5/1.5 MB\u001b[0m \u001b[31m14.6 MB/s\u001b[0m eta \u001b[36m0:00:00\u001b[0m\n",
            "\u001b[?25hRequirement already satisfied: sniffio in /usr/local/lib/python3.10/dist-packages (from httpx==0.13.3->googletrans==4.0.0rc1) (1.3.0)\n",
            "Collecting chardet==3.* (from httpx==0.13.3->googletrans==4.0.0rc1)\n",
            "  Downloading chardet-3.0.4-py2.py3-none-any.whl (133 kB)\n",
            "\u001b[2K     \u001b[90m━━━━━━━━━━━━━━━━━━━━━━━━━━━━━━━━━━━━━━━━\u001b[0m \u001b[32m133.4/133.4 kB\u001b[0m \u001b[31m11.1 MB/s\u001b[0m eta \u001b[36m0:00:00\u001b[0m\n",
            "\u001b[?25hCollecting idna==2.* (from httpx==0.13.3->googletrans==4.0.0rc1)\n",
            "  Downloading idna-2.10-py2.py3-none-any.whl (58 kB)\n",
            "\u001b[2K     \u001b[90m━━━━━━━━━━━━━━━━━━━━━━━━━━━━━━━━━━━━━━━━\u001b[0m \u001b[32m58.8/58.8 kB\u001b[0m \u001b[31m5.7 MB/s\u001b[0m eta \u001b[36m0:00:00\u001b[0m\n",
            "\u001b[?25hCollecting rfc3986<2,>=1.3 (from httpx==0.13.3->googletrans==4.0.0rc1)\n",
            "  Downloading rfc3986-1.5.0-py2.py3-none-any.whl (31 kB)\n",
            "Collecting httpcore==0.9.* (from httpx==0.13.3->googletrans==4.0.0rc1)\n",
            "  Downloading httpcore-0.9.1-py3-none-any.whl (42 kB)\n",
            "\u001b[2K     \u001b[90m━━━━━━━━━━━━━━━━━━━━━━━━━━━━━━━━━━━━━━━━\u001b[0m \u001b[32m42.6/42.6 kB\u001b[0m \u001b[31m5.8 MB/s\u001b[0m eta \u001b[36m0:00:00\u001b[0m\n",
            "\u001b[?25hCollecting h11<0.10,>=0.8 (from httpcore==0.9.*->httpx==0.13.3->googletrans==4.0.0rc1)\n",
            "  Downloading h11-0.9.0-py2.py3-none-any.whl (53 kB)\n",
            "\u001b[2K     \u001b[90m━━━━━━━━━━━━━━━━━━━━━━━━━━━━━━━━━━━━━━━━\u001b[0m \u001b[32m53.6/53.6 kB\u001b[0m \u001b[31m7.6 MB/s\u001b[0m eta \u001b[36m0:00:00\u001b[0m\n",
            "\u001b[?25hCollecting h2==3.* (from httpcore==0.9.*->httpx==0.13.3->googletrans==4.0.0rc1)\n",
            "  Downloading h2-3.2.0-py2.py3-none-any.whl (65 kB)\n",
            "\u001b[2K     \u001b[90m━━━━━━━━━━━━━━━━━━━━━━━━━━━━━━━━━━━━━━━━\u001b[0m \u001b[32m65.0/65.0 kB\u001b[0m \u001b[31m9.3 MB/s\u001b[0m eta \u001b[36m0:00:00\u001b[0m\n",
            "\u001b[?25hCollecting hyperframe<6,>=5.2.0 (from h2==3.*->httpcore==0.9.*->httpx==0.13.3->googletrans==4.0.0rc1)\n",
            "  Downloading hyperframe-5.2.0-py2.py3-none-any.whl (12 kB)\n",
            "Collecting hpack<4,>=3.0 (from h2==3.*->httpcore==0.9.*->httpx==0.13.3->googletrans==4.0.0rc1)\n",
            "  Downloading hpack-3.0.0-py2.py3-none-any.whl (38 kB)\n",
            "Building wheels for collected packages: googletrans\n",
            "  Building wheel for googletrans (setup.py) ... \u001b[?25l\u001b[?25hdone\n",
            "  Created wheel for googletrans: filename=googletrans-4.0.0rc1-py3-none-any.whl size=17396 sha256=73e9f6a52724817d6af0d88d4d67ec3dce1e6fe82bbb196ff7087a4b7c2d54b7\n",
            "  Stored in directory: /root/.cache/pip/wheels/c0/59/9f/7372f0cf70160fe61b528532e1a7c8498c4becd6bcffb022de\n",
            "Successfully built googletrans\n",
            "Installing collected packages: rfc3986, hyperframe, hpack, h11, chardet, idna, hstspreload, h2, httpcore, httpx, googletrans\n",
            "  Attempting uninstall: chardet\n",
            "    Found existing installation: chardet 5.2.0\n",
            "    Uninstalling chardet-5.2.0:\n",
            "      Successfully uninstalled chardet-5.2.0\n",
            "  Attempting uninstall: idna\n",
            "    Found existing installation: idna 3.4\n",
            "    Uninstalling idna-3.4:\n",
            "      Successfully uninstalled idna-3.4\n",
            "Successfully installed chardet-3.0.4 googletrans-4.0.0rc1 h11-0.9.0 h2-3.2.0 hpack-3.0.0 hstspreload-2023.1.1 httpcore-0.9.1 httpx-0.13.3 hyperframe-5.2.0 idna-2.10 rfc3986-1.5.0\n",
            "Collecting news-please\n",
            "  Downloading news_please-1.5.35-py3-none-any.whl (90 kB)\n",
            "\u001b[2K     \u001b[90m━━━━━━━━━━━━━━━━━━━━━━━━━━━━━━━━━━━━━━━━\u001b[0m \u001b[32m90.2/90.2 kB\u001b[0m \u001b[31m3.1 MB/s\u001b[0m eta \u001b[36m0:00:00\u001b[0m\n",
            "\u001b[?25hCollecting Scrapy>=1.1.0 (from news-please)\n",
            "  Downloading Scrapy-2.11.0-py2.py3-none-any.whl (286 kB)\n",
            "\u001b[2K     \u001b[90m━━━━━━━━━━━━━━━━━━━━━━━━━━━━━━━━━━━━━━━━\u001b[0m \u001b[32m286.4/286.4 kB\u001b[0m \u001b[31m9.0 MB/s\u001b[0m eta \u001b[36m0:00:00\u001b[0m\n",
            "\u001b[?25hCollecting PyMySQL>=0.7.9 (from news-please)\n",
            "  Downloading PyMySQL-1.1.0-py3-none-any.whl (44 kB)\n",
            "\u001b[2K     \u001b[90m━━━━━━━━━━━━━━━━━━━━━━━━━━━━━━━━━━━━━━━━\u001b[0m \u001b[32m44.8/44.8 kB\u001b[0m \u001b[31m5.8 MB/s\u001b[0m eta \u001b[36m0:00:00\u001b[0m\n",
            "\u001b[?25hCollecting psycopg2-binary>=2.8.4 (from news-please)\n",
            "  Downloading psycopg2_binary-2.9.9-cp310-cp310-manylinux_2_17_x86_64.manylinux2014_x86_64.whl (3.0 MB)\n",
            "\u001b[2K     \u001b[90m━━━━━━━━━━━━━━━━━━━━━━━━━━━━━━━━━━━━━━━━\u001b[0m \u001b[32m3.0/3.0 MB\u001b[0m \u001b[31m19.3 MB/s\u001b[0m eta \u001b[36m0:00:00\u001b[0m\n",
            "\u001b[?25hCollecting hjson>=1.5.8 (from news-please)\n",
            "  Downloading hjson-3.1.0-py3-none-any.whl (54 kB)\n",
            "\u001b[2K     \u001b[90m━━━━━━━━━━━━━━━━━━━━━━━━━━━━━━━━━━━━━━━━\u001b[0m \u001b[32m54.0/54.0 kB\u001b[0m \u001b[31m8.3 MB/s\u001b[0m eta \u001b[36m0:00:00\u001b[0m\n",
            "\u001b[?25hCollecting elasticsearch>=2.4 (from news-please)\n",
            "  Downloading elasticsearch-8.10.1-py3-none-any.whl (409 kB)\n",
            "\u001b[2K     \u001b[90m━━━━━━━━━━━━━━━━━━━━━━━━━━━━━━━━━━━━━━━━\u001b[0m \u001b[32m409.3/409.3 kB\u001b[0m \u001b[31m25.1 MB/s\u001b[0m eta \u001b[36m0:00:00\u001b[0m\n",
            "\u001b[?25hRequirement already satisfied: beautifulsoup4>=4.3.2 in /usr/local/lib/python3.10/dist-packages (from news-please) (4.11.2)\n",
            "Collecting readability-lxml>=0.6.2 (from news-please)\n",
            "  Downloading readability_lxml-0.8.1-py3-none-any.whl (20 kB)\n",
            "Collecting newspaper3k>=0.2.8 (from news-please)\n",
            "  Downloading newspaper3k-0.2.8-py3-none-any.whl (211 kB)\n",
            "\u001b[2K     \u001b[90m━━━━━━━━━━━━━━━━━━━━━━━━━━━━━━━━━━━━━━━━\u001b[0m \u001b[32m211.1/211.1 kB\u001b[0m \u001b[31m16.7 MB/s\u001b[0m eta \u001b[36m0:00:00\u001b[0m\n",
            "\u001b[?25hCollecting langdetect>=1.0.7 (from news-please)\n",
            "  Downloading langdetect-1.0.9.tar.gz (981 kB)\n",
            "\u001b[2K     \u001b[90m━━━━━━━━━━━━━━━━━━━━━━━━━━━━━━━━━━━━━━━━\u001b[0m \u001b[32m981.5/981.5 kB\u001b[0m \u001b[31m30.4 MB/s\u001b[0m eta \u001b[36m0:00:00\u001b[0m\n",
            "\u001b[?25h  Preparing metadata (setup.py) ... \u001b[?25l\u001b[?25hdone\n",
            "Requirement already satisfied: python-dateutil>=2.4.0 in /usr/local/lib/python3.10/dist-packages (from news-please) (2.8.2)\n",
            "Collecting plac>=0.9.6 (from news-please)\n",
            "  Downloading plac-1.4.1-py2.py3-none-any.whl (22 kB)\n",
            "Collecting dotmap>=1.2.17 (from news-please)\n",
            "  Downloading dotmap-1.3.30-py3-none-any.whl (11 kB)\n",
            "Collecting PyDispatcher>=2.0.5 (from news-please)\n",
            "  Downloading PyDispatcher-2.0.7-py3-none-any.whl (12 kB)\n",
            "Collecting warcio>=1.3.3 (from news-please)\n",
            "  Downloading warcio-1.7.4-py2.py3-none-any.whl (40 kB)\n",
            "\u001b[2K     \u001b[90m━━━━━━━━━━━━━━━━━━━━━━━━━━━━━━━━━━━━━━━━\u001b[0m \u001b[32m40.2/40.2 kB\u001b[0m \u001b[31m4.9 MB/s\u001b[0m eta \u001b[36m0:00:00\u001b[0m\n",
            "\u001b[?25hCollecting ago>=0.0.9 (from news-please)\n",
            "  Downloading ago-0.0.95.tar.gz (4.6 kB)\n",
            "  Preparing metadata (setup.py) ... \u001b[?25l\u001b[?25hdone\n",
            "Requirement already satisfied: six>=1.10.0 in /usr/local/lib/python3.10/dist-packages (from news-please) (1.16.0)\n",
            "Requirement already satisfied: lxml>=3.3.5 in /usr/local/lib/python3.10/dist-packages (from news-please) (4.9.3)\n",
            "Collecting hurry.filesize>=0.9 (from news-please)\n",
            "  Downloading hurry.filesize-0.9.tar.gz (2.8 kB)\n",
            "  Preparing metadata (setup.py) ... \u001b[?25l\u001b[?25hdone\n",
            "Collecting bs4 (from news-please)\n",
            "  Downloading bs4-0.0.1.tar.gz (1.1 kB)\n",
            "  Preparing metadata (setup.py) ... \u001b[?25l\u001b[?25hdone\n",
            "Collecting faust-cchardet>=2.1.18 (from news-please)\n",
            "  Downloading faust_cchardet-2.1.19-cp310-cp310-manylinux_2_17_x86_64.manylinux2014_x86_64.whl (301 kB)\n",
            "\u001b[2K     \u001b[90m━━━━━━━━━━━━━━━━━━━━━━━━━━━━━━━━━━━━━━━━\u001b[0m \u001b[32m302.0/302.0 kB\u001b[0m \u001b[31m15.4 MB/s\u001b[0m eta \u001b[36m0:00:00\u001b[0m\n",
            "\u001b[?25hCollecting boto3 (from news-please)\n",
            "  Downloading boto3-1.28.73-py3-none-any.whl (135 kB)\n",
            "\u001b[2K     \u001b[90m━━━━━━━━━━━━━━━━━━━━━━━━━━━━━━━━━━━━━━━━\u001b[0m \u001b[32m135.8/135.8 kB\u001b[0m \u001b[31m18.6 MB/s\u001b[0m eta \u001b[36m0:00:00\u001b[0m\n",
            "\u001b[?25hRequirement already satisfied: soupsieve>1.2 in /usr/local/lib/python3.10/dist-packages (from beautifulsoup4>=4.3.2->news-please) (2.5)\n",
            "Collecting elastic-transport<9,>=8 (from elasticsearch>=2.4->news-please)\n",
            "  Downloading elastic_transport-8.10.0-py3-none-any.whl (59 kB)\n",
            "\u001b[2K     \u001b[90m━━━━━━━━━━━━━━━━━━━━━━━━━━━━━━━━━━━━━━━━\u001b[0m \u001b[32m59.8/59.8 kB\u001b[0m \u001b[31m8.0 MB/s\u001b[0m eta \u001b[36m0:00:00\u001b[0m\n",
            "\u001b[?25hRequirement already satisfied: setuptools in /usr/local/lib/python3.10/dist-packages (from hurry.filesize>=0.9->news-please) (67.7.2)\n",
            "Requirement already satisfied: Pillow>=3.3.0 in /usr/local/lib/python3.10/dist-packages (from newspaper3k>=0.2.8->news-please) (9.4.0)\n",
            "Requirement already satisfied: PyYAML>=3.11 in /usr/local/lib/python3.10/dist-packages (from newspaper3k>=0.2.8->news-please) (6.0.1)\n",
            "Collecting cssselect>=0.9.2 (from newspaper3k>=0.2.8->news-please)\n",
            "  Downloading cssselect-1.2.0-py2.py3-none-any.whl (18 kB)\n",
            "Requirement already satisfied: nltk>=3.2.1 in /usr/local/lib/python3.10/dist-packages (from newspaper3k>=0.2.8->news-please) (3.8.1)\n",
            "Requirement already satisfied: requests>=2.10.0 in /usr/local/lib/python3.10/dist-packages (from newspaper3k>=0.2.8->news-please) (2.31.0)\n",
            "Collecting feedparser>=5.2.1 (from newspaper3k>=0.2.8->news-please)\n",
            "  Downloading feedparser-6.0.10-py3-none-any.whl (81 kB)\n",
            "\u001b[2K     \u001b[90m━━━━━━━━━━━━━━━━━━━━━━━━━━━━━━━━━━━━━━━━\u001b[0m \u001b[32m81.1/81.1 kB\u001b[0m \u001b[31m9.8 MB/s\u001b[0m eta \u001b[36m0:00:00\u001b[0m\n",
            "\u001b[?25hCollecting tldextract>=2.0.1 (from newspaper3k>=0.2.8->news-please)\n",
            "  Downloading tldextract-5.0.1-py3-none-any.whl (97 kB)\n",
            "\u001b[2K     \u001b[90m━━━━━━━━━━━━━━━━━━━━━━━━━━━━━━━━━━━━━━━━\u001b[0m \u001b[32m97.1/97.1 kB\u001b[0m \u001b[31m13.8 MB/s\u001b[0m eta \u001b[36m0:00:00\u001b[0m\n",
            "\u001b[?25hCollecting feedfinder2>=0.0.4 (from newspaper3k>=0.2.8->news-please)\n",
            "  Downloading feedfinder2-0.0.4.tar.gz (3.3 kB)\n",
            "  Preparing metadata (setup.py) ... \u001b[?25l\u001b[?25hdone\n",
            "Collecting jieba3k>=0.35.1 (from newspaper3k>=0.2.8->news-please)\n",
            "  Downloading jieba3k-0.35.1.zip (7.4 MB)\n",
            "\u001b[2K     \u001b[90m━━━━━━━━━━━━━━━━━━━━━━━━━━━━━━━━━━━━━━━━\u001b[0m \u001b[32m7.4/7.4 MB\u001b[0m \u001b[31m55.3 MB/s\u001b[0m eta \u001b[36m0:00:00\u001b[0m\n",
            "\u001b[?25h  Preparing metadata (setup.py) ... \u001b[?25l\u001b[?25hdone\n",
            "Collecting tinysegmenter==0.3 (from newspaper3k>=0.2.8->news-please)\n",
            "  Downloading tinysegmenter-0.3.tar.gz (16 kB)\n",
            "  Preparing metadata (setup.py) ... \u001b[?25l\u001b[?25hdone\n",
            "Requirement already satisfied: chardet in /usr/local/lib/python3.10/dist-packages (from readability-lxml>=0.6.2->news-please) (3.0.4)\n",
            "Collecting Twisted<23.8.0,>=18.9.0 (from Scrapy>=1.1.0->news-please)\n",
            "  Downloading Twisted-22.10.0-py3-none-any.whl (3.1 MB)\n",
            "\u001b[2K     \u001b[90m━━━━━━━━━━━━━━━━━━━━━━━━━━━━━━━━━━━━━━━━\u001b[0m \u001b[32m3.1/3.1 MB\u001b[0m \u001b[31m75.5 MB/s\u001b[0m eta \u001b[36m0:00:00\u001b[0m\n",
            "\u001b[?25hRequirement already satisfied: cryptography>=36.0.0 in /usr/local/lib/python3.10/dist-packages (from Scrapy>=1.1.0->news-please) (41.0.5)\n",
            "Collecting itemloaders>=1.0.1 (from Scrapy>=1.1.0->news-please)\n",
            "  Downloading itemloaders-1.1.0-py3-none-any.whl (11 kB)\n",
            "Collecting parsel>=1.5.0 (from Scrapy>=1.1.0->news-please)\n",
            "  Downloading parsel-1.8.1-py2.py3-none-any.whl (17 kB)\n",
            "Requirement already satisfied: pyOpenSSL>=21.0.0 in /usr/local/lib/python3.10/dist-packages (from Scrapy>=1.1.0->news-please) (23.2.0)\n",
            "Collecting queuelib>=1.4.2 (from Scrapy>=1.1.0->news-please)\n",
            "  Downloading queuelib-1.6.2-py2.py3-none-any.whl (13 kB)\n",
            "Collecting service-identity>=18.1.0 (from Scrapy>=1.1.0->news-please)\n",
            "  Downloading service_identity-23.1.0-py3-none-any.whl (12 kB)\n",
            "Collecting w3lib>=1.17.0 (from Scrapy>=1.1.0->news-please)\n",
            "  Downloading w3lib-2.1.2-py3-none-any.whl (21 kB)\n",
            "Collecting zope.interface>=5.1.0 (from Scrapy>=1.1.0->news-please)\n",
            "  Downloading zope.interface-6.1-cp310-cp310-manylinux_2_5_x86_64.manylinux1_x86_64.manylinux_2_17_x86_64.manylinux2014_x86_64.whl (247 kB)\n",
            "\u001b[2K     \u001b[90m━━━━━━━━━━━━━━━━━━━━━━━━━━━━━━━━━━━━━━━━\u001b[0m \u001b[32m247.1/247.1 kB\u001b[0m \u001b[31m31.9 MB/s\u001b[0m eta \u001b[36m0:00:00\u001b[0m\n",
            "\u001b[?25hCollecting protego>=0.1.15 (from Scrapy>=1.1.0->news-please)\n",
            "  Downloading Protego-0.3.0-py2.py3-none-any.whl (8.5 kB)\n",
            "Collecting itemadapter>=0.1.0 (from Scrapy>=1.1.0->news-please)\n",
            "  Downloading itemadapter-0.8.0-py3-none-any.whl (11 kB)\n",
            "Requirement already satisfied: packaging in /usr/local/lib/python3.10/dist-packages (from Scrapy>=1.1.0->news-please) (23.2)\n",
            "Collecting botocore<1.32.0,>=1.31.73 (from boto3->news-please)\n",
            "  Downloading botocore-1.31.73-py3-none-any.whl (11.3 MB)\n",
            "\u001b[2K     \u001b[90m━━━━━━━━━━━━━━━━━━━━━━━━━━━━━━━━━━━━━━━━\u001b[0m \u001b[32m11.3/11.3 MB\u001b[0m \u001b[31m88.4 MB/s\u001b[0m eta \u001b[36m0:00:00\u001b[0m\n",
            "\u001b[?25hCollecting jmespath<2.0.0,>=0.7.1 (from boto3->news-please)\n",
            "  Downloading jmespath-1.0.1-py3-none-any.whl (20 kB)\n",
            "Collecting s3transfer<0.8.0,>=0.7.0 (from boto3->news-please)\n",
            "  Downloading s3transfer-0.7.0-py3-none-any.whl (79 kB)\n",
            "\u001b[2K     \u001b[90m━━━━━━━━━━━━━━━━━━━━━━━━━━━━━━━━━━━━━━━━\u001b[0m \u001b[32m79.8/79.8 kB\u001b[0m \u001b[31m12.2 MB/s\u001b[0m eta \u001b[36m0:00:00\u001b[0m\n",
            "\u001b[?25hRequirement already satisfied: urllib3<2.1,>=1.25.4 in /usr/local/lib/python3.10/dist-packages (from botocore<1.32.0,>=1.31.73->boto3->news-please) (2.0.7)\n",
            "Requirement already satisfied: cffi>=1.12 in /usr/local/lib/python3.10/dist-packages (from cryptography>=36.0.0->Scrapy>=1.1.0->news-please) (1.16.0)\n",
            "Requirement already satisfied: certifi in /usr/local/lib/python3.10/dist-packages (from elastic-transport<9,>=8->elasticsearch>=2.4->news-please) (2023.7.22)\n",
            "Collecting sgmllib3k (from feedparser>=5.2.1->newspaper3k>=0.2.8->news-please)\n",
            "  Downloading sgmllib3k-1.0.0.tar.gz (5.8 kB)\n",
            "  Preparing metadata (setup.py) ... \u001b[?25l\u001b[?25hdone\n",
            "Requirement already satisfied: click in /usr/local/lib/python3.10/dist-packages (from nltk>=3.2.1->newspaper3k>=0.2.8->news-please) (8.1.7)\n",
            "Requirement already satisfied: joblib in /usr/local/lib/python3.10/dist-packages (from nltk>=3.2.1->newspaper3k>=0.2.8->news-please) (1.3.2)\n",
            "Requirement already satisfied: regex>=2021.8.3 in /usr/local/lib/python3.10/dist-packages (from nltk>=3.2.1->newspaper3k>=0.2.8->news-please) (2023.6.3)\n",
            "Requirement already satisfied: tqdm in /usr/local/lib/python3.10/dist-packages (from nltk>=3.2.1->newspaper3k>=0.2.8->news-please) (4.66.1)\n",
            "Requirement already satisfied: charset-normalizer<4,>=2 in /usr/local/lib/python3.10/dist-packages (from requests>=2.10.0->newspaper3k>=0.2.8->news-please) (3.3.1)\n",
            "Requirement already satisfied: idna<4,>=2.5 in /usr/local/lib/python3.10/dist-packages (from requests>=2.10.0->newspaper3k>=0.2.8->news-please) (2.10)\n",
            "Requirement already satisfied: attrs>=19.1.0 in /usr/local/lib/python3.10/dist-packages (from service-identity>=18.1.0->Scrapy>=1.1.0->news-please) (23.1.0)\n",
            "Requirement already satisfied: pyasn1 in /usr/local/lib/python3.10/dist-packages (from service-identity>=18.1.0->Scrapy>=1.1.0->news-please) (0.5.0)\n",
            "Requirement already satisfied: pyasn1-modules in /usr/local/lib/python3.10/dist-packages (from service-identity>=18.1.0->Scrapy>=1.1.0->news-please) (0.3.0)\n",
            "Collecting requests-file>=1.4 (from tldextract>=2.0.1->newspaper3k>=0.2.8->news-please)\n",
            "  Downloading requests_file-1.5.1-py2.py3-none-any.whl (3.7 kB)\n",
            "Requirement already satisfied: filelock>=3.0.8 in /usr/local/lib/python3.10/dist-packages (from tldextract>=2.0.1->newspaper3k>=0.2.8->news-please) (3.12.4)\n",
            "Collecting constantly>=15.1 (from Twisted<23.8.0,>=18.9.0->Scrapy>=1.1.0->news-please)\n",
            "  Downloading constantly-23.10.4-py3-none-any.whl (13 kB)\n",
            "Collecting incremental>=21.3.0 (from Twisted<23.8.0,>=18.9.0->Scrapy>=1.1.0->news-please)\n",
            "  Downloading incremental-22.10.0-py2.py3-none-any.whl (16 kB)\n",
            "Collecting Automat>=0.8.0 (from Twisted<23.8.0,>=18.9.0->Scrapy>=1.1.0->news-please)\n",
            "  Downloading Automat-22.10.0-py2.py3-none-any.whl (26 kB)\n",
            "Collecting hyperlink>=17.1.1 (from Twisted<23.8.0,>=18.9.0->Scrapy>=1.1.0->news-please)\n",
            "  Downloading hyperlink-21.0.0-py2.py3-none-any.whl (74 kB)\n",
            "\u001b[2K     \u001b[90m━━━━━━━━━━━━━━━━━━━━━━━━━━━━━━━━━━━━━━━━\u001b[0m \u001b[32m74.6/74.6 kB\u001b[0m \u001b[31m10.2 MB/s\u001b[0m eta \u001b[36m0:00:00\u001b[0m\n",
            "\u001b[?25hRequirement already satisfied: typing-extensions>=3.6.5 in /usr/local/lib/python3.10/dist-packages (from Twisted<23.8.0,>=18.9.0->Scrapy>=1.1.0->news-please) (4.5.0)\n",
            "Requirement already satisfied: pycparser in /usr/local/lib/python3.10/dist-packages (from cffi>=1.12->cryptography>=36.0.0->Scrapy>=1.1.0->news-please) (2.21)\n",
            "Building wheels for collected packages: ago, hurry.filesize, langdetect, tinysegmenter, bs4, feedfinder2, jieba3k, sgmllib3k\n",
            "  Building wheel for ago (setup.py) ... \u001b[?25l\u001b[?25hdone\n",
            "  Created wheel for ago: filename=ago-0.0.95-py3-none-any.whl size=5160 sha256=b15460fe512ce22a12dae5e286ef0b29974040c40abc2b2ea6d2d05d339a48c5\n",
            "  Stored in directory: /root/.cache/pip/wheels/a8/b3/4b/1a778dcc4ab767ee37335851d6df8922cf08cc8c67e3daf8f8\n",
            "  Building wheel for hurry.filesize (setup.py) ... \u001b[?25l\u001b[?25hdone\n",
            "  Created wheel for hurry.filesize: filename=hurry.filesize-0.9-py3-none-any.whl size=4120 sha256=559e5d2a6f01b524d2ca4b134598ab820325ce95e45e8ddde1c879bd85fb189b\n",
            "  Stored in directory: /root/.cache/pip/wheels/e9/af/17/1c4cd045d88f20d450522470819d85349c3388c151af64590b\n",
            "  Building wheel for langdetect (setup.py) ... \u001b[?25l\u001b[?25hdone\n",
            "  Created wheel for langdetect: filename=langdetect-1.0.9-py3-none-any.whl size=993224 sha256=2feef7072137e0029fee10c98423fe7e84097a1fdf5062d3962f556676b014e4\n",
            "  Stored in directory: /root/.cache/pip/wheels/95/03/7d/59ea870c70ce4e5a370638b5462a7711ab78fba2f655d05106\n",
            "  Building wheel for tinysegmenter (setup.py) ... \u001b[?25l\u001b[?25hdone\n",
            "  Created wheel for tinysegmenter: filename=tinysegmenter-0.3-py3-none-any.whl size=13541 sha256=c69ba4ee391dbe1c05750127e953b99f80d93dcd1dd67301d8c026c5e2e71a77\n",
            "  Stored in directory: /root/.cache/pip/wheels/c8/d6/6c/384f58df48c00b9a31d638005143b5b3ac62c3d25fb1447f23\n",
            "  Building wheel for bs4 (setup.py) ... \u001b[?25l\u001b[?25hdone\n",
            "  Created wheel for bs4: filename=bs4-0.0.1-py3-none-any.whl size=1256 sha256=b30721ed56e455bbcc7eaa27db0a46d4e5aa9edd36b8c704b5c64510fd3ba043\n",
            "  Stored in directory: /root/.cache/pip/wheels/25/42/45/b773edc52acb16cd2db4cf1a0b47117e2f69bb4eb300ed0e70\n",
            "  Building wheel for feedfinder2 (setup.py) ... \u001b[?25l\u001b[?25hdone\n",
            "  Created wheel for feedfinder2: filename=feedfinder2-0.0.4-py3-none-any.whl size=3339 sha256=b3d4af2749d8def54cd6db24e09562311f40a0736c4c53708d47ae1792909e4e\n",
            "  Stored in directory: /root/.cache/pip/wheels/97/02/e7/a1ff1760e12bdbaab0ac824fae5c1bc933e41c4ccd6a8f8edb\n",
            "  Building wheel for jieba3k (setup.py) ... \u001b[?25l\u001b[?25hdone\n",
            "  Created wheel for jieba3k: filename=jieba3k-0.35.1-py3-none-any.whl size=7398380 sha256=807da52210a26b53cd0630b1ed0efdbf1b2d45679527d877f01a732695c81418\n",
            "  Stored in directory: /root/.cache/pip/wheels/7a/c4/0c/12a9a314ecac499456c4c3b2fcc2f635a3b45a39dfbd240299\n",
            "  Building wheel for sgmllib3k (setup.py) ... \u001b[?25l\u001b[?25hdone\n",
            "  Created wheel for sgmllib3k: filename=sgmllib3k-1.0.0-py3-none-any.whl size=6047 sha256=4c5c9969475adba3272afa712665efc93ac45afda38eab2c1679a085629aa1db\n",
            "  Stored in directory: /root/.cache/pip/wheels/f0/69/93/a47e9d621be168e9e33c7ce60524393c0b92ae83cf6c6e89c5\n",
            "Successfully built ago hurry.filesize langdetect tinysegmenter bs4 feedfinder2 jieba3k sgmllib3k\n",
            "Installing collected packages: tinysegmenter, sgmllib3k, PyDispatcher, plac, jieba3k, incremental, hjson, faust-cchardet, dotmap, ago, zope.interface, warcio, w3lib, queuelib, PyMySQL, psycopg2-binary, protego, langdetect, jmespath, itemadapter, hyperlink, hurry.filesize, feedparser, elastic-transport, cssselect, constantly, Automat, Twisted, requests-file, readability-lxml, parsel, feedfinder2, elasticsearch, bs4, botocore, tldextract, service-identity, s3transfer, itemloaders, Scrapy, newspaper3k, boto3, news-please\n",
            "Successfully installed Automat-22.10.0 PyDispatcher-2.0.7 PyMySQL-1.1.0 Scrapy-2.11.0 Twisted-22.10.0 ago-0.0.95 boto3-1.28.73 botocore-1.31.73 bs4-0.0.1 constantly-23.10.4 cssselect-1.2.0 dotmap-1.3.30 elastic-transport-8.10.0 elasticsearch-8.10.1 faust-cchardet-2.1.19 feedfinder2-0.0.4 feedparser-6.0.10 hjson-3.1.0 hurry.filesize-0.9 hyperlink-21.0.0 incremental-22.10.0 itemadapter-0.8.0 itemloaders-1.1.0 jieba3k-0.35.1 jmespath-1.0.1 langdetect-1.0.9 news-please-1.5.35 newspaper3k-0.2.8 parsel-1.8.1 plac-1.4.1 protego-0.3.0 psycopg2-binary-2.9.9 queuelib-1.6.2 readability-lxml-0.8.1 requests-file-1.5.1 s3transfer-0.7.0 service-identity-23.1.0 sgmllib3k-1.0.0 tinysegmenter-0.3 tldextract-5.0.1 w3lib-2.1.2 warcio-1.7.4 zope.interface-6.1\n"
          ]
        }
      ]
    },
    {
      "cell_type": "markdown",
      "source": [
        "### Simple translation"
      ],
      "metadata": {
        "id": "BiWvw_6AHlr_"
      }
    },
    {
      "cell_type": "code",
      "source": [
        "from googletrans import Translator\n",
        "translator = Translator()\n",
        "translation = translator.translate(\"Pojďme přeložit několik větiček!\", dest='en', src='cs')\n",
        "print(translation)\n",
        "print(translation.origin)\n",
        "print(translation.text)"
      ],
      "metadata": {
        "colab": {
          "base_uri": "https://localhost:8080/"
        },
        "id": "pW8nxE1ef5k-",
        "outputId": "313de1dd-aaa7-47d9-ad52-0f261cae3fae"
      },
      "execution_count": null,
      "outputs": [
        {
          "output_type": "stream",
          "name": "stdout",
          "text": [
            "Translated(src=cs, dest=en, text=Let's translate a few sentences!, pronunciation=None, extra_data=\"{'confiden...\")\n",
            "Pojďme přeložit několik větiček!\n",
            "Let's translate a few sentences!\n"
          ]
        }
      ]
    },
    {
      "cell_type": "markdown",
      "source": [
        "# Translation of long documents"
      ],
      "metadata": {
        "id": "cO3CLjRwHroH"
      }
    },
    {
      "cell_type": "markdown",
      "source": [
        "## Newsplease"
      ],
      "metadata": {
        "id": "rfNu5TcMH3Kv"
      }
    },
    {
      "cell_type": "markdown",
      "source": [
        "Print just specific parts of the output like the title, and etc."
      ],
      "metadata": {
        "id": "91-w5FdT2QKL"
      }
    },
    {
      "cell_type": "code",
      "source": [
        "url = \"https://www.idnes.cz/zpravy/zahranicni/izrael-palestina-gaza-egypt-vysidleni.A231030_061157_zahranicni_vlc\"\n",
        "\n",
        "from newsplease import NewsPlease\n",
        "article = NewsPlease.from_url(url)\n",
        "print(article.title)\n",
        "print(article.maintext)\n"
      ],
      "metadata": {
        "colab": {
          "base_uri": "https://localhost:8080/"
        },
        "id": "zoor_keX5pkJ",
        "outputId": "5007480c-77dd-4c83-e374-2d700f571a95"
      },
      "execution_count": null,
      "outputs": [
        {
          "output_type": "stream",
          "name": "stdout",
          "text": [
            "Izrael: Palestinci by měli být vysídleni do Egypta. Zemřel vůdce teroristů\n",
            "Dokument upozorňuje na pravděpodobné potíže mezinárodního schválení takového kroku, ale zároveň nucený transfer obyvatel ospravedlňuje jako řešení problému uprchlíků, kteří hledají úkryt před válkou.\n",
            "Izrael v Gaze podniká rozsáhlé letecké i pozemní útoky jako odvetu za masakry palestinského radikálního hnutí Hamás v Izraeli ze 7. října, při nichž zemřelo 1 400 lidí, převážně civilistů.\n",
            "Izraelská armáda uvedla, že v rámci protiofenzívy v Pásmu Gazy její pozemní síly v noci na pondělí zabily „desítky teroristů“, uvedla agentura AFP. Ozbrojenci byli podle vyjádření izraelských sil zabarikádovaní v domech a tunelech a snažili se útočit na izraelské vojáky, napsala DPA. Tvrzení izraelské armády nelze nezávisle ověřit.\n",
            "Podívejte se i na naše další živé přenosy Sledovat na iDNES.tv\n",
            "Jeden z letounů navedený pozemními jednotkami bombardoval budovu, v níž se skrývalo více než 20 nepřátelských bojovníků. Celkem izraelská armáda za poslední dny zaútočila na více než 600 cílů palestinského radikálního hnutí Hamás, byly mezi nimi sklady zbraní, místa pro odpalování protitankových raket a základny hnutí.\n",
            "Americká televize CNN v neděli informovala, že na základě analýzy videí, které zveřejnila izraelská strana, postoupili izraelští vojáci o více než tři kilometry dovnitř Pásma Gazy. To je dlouhé asi 40 kilometrů a široké až 12 kilometrů.\n",
            "Izraelské tanky podle svědků postoupily na okraj města Gazy a obsadily významnou silnici, která Pásmo Gazy spojuje ze severu na jih, píše AFP.\n",
            "Materiál předkládá i dvojici jiných možných řešení. Jedním z nich by bylo nechat po skončení války, jejímž cílem je zničit Hamás, v Gaze vládnout palestinskou samosprávu, která nyní kontroluje části Západního břehu. Druhým pak podpořit jiný místní režim.\n",
            "Obě tyto varianty pro úzké pobřežní pásmo, v němž už si izraelské útoky vyžádaly přes 8 tisíc obětí, z velké části dětí, pak dokument ale zavrhuje. Jedním z hlavních důvodů je to, že by tyto možnosti nesloužily jako dostatečné odstrašení před dalšími útoky na Izrael.\n",
            "Izraelská vláda význam dokumentu podle The Times of Israel snižuje. Kancelář premiéra Benjamina Netanjahua deníku Haarec řekla, že materiál představuje „počáteční úvahy“ týkající se této otázky, kterými se teď úřady nezabývají, protože se soustředí na válku, a ne na to, co bude den po ní.\n",
            "Palestinci se scénáře vysídlení hrozí, v neposlední řadě proto, že jim připomíná roky 1948 a 1967, kdy jich statisíce opustily palestinská území. V první arabsko-izraelské válce (1948-1949), kdy na Izrael zaútočila koalice arabských zemí, opustilo své domovy nebo z nich bylo vyhnáno 750 tisíc Palestinců. Dodnes to označují za nakbu, neboli národní katastrofu.\n",
            "Po šestidenní válce v roce 1967, během které Izrael obsadil Západní břeh, východní Jeruzalém i Pásmo Gazy a další území, je následovalo dalších asi 320 tisíc Palestinců. Západní břeh Izrael v rozporu s mezinárodním právem okupuje dodnes a na tomto území staví stále další židovské osady.\n",
            "Šéf palestinské samosprávy Mahmúd Abbás se během nynějšího konfliktu nechal slyšet, že Palestinci neopustí svou vlast a nedovolí nikomu, aby je vyhnal. Jeho obavy zřejmě zvýšila i izraelská mnohokrát opakovaná výzva obyvatelům severní části Gazy, aby ji opustili a přesunuli se na jih tohoto pásma, tedy blíže k hranicím s Egyptem. Jeruzalém ji zdůvodnil tím, že chce zabránit úmrtí civilistů na bojišti.\n",
            "Válka v Izraeli Sledovat další díly na iDNES.tv\n",
            "Do Gazy se dostalo 33 kamionů s pomocí\n",
            "Do Pásma Gazy se v neděli z Egypta dostalo 33 kamionů s jídlem, vodou a léky, což je zatím nejvíce za jediný den od 7. října, kdy radikální palestinské hnutí Hamás zaútočilo na Izrael.\n",
            "I tak je to ale podle OSN a humanitárních organizací málo a bylo by třeba, aby do Gazy, v níž na území menším než Praha žije 2,3 milionu lidí, denně přijelo kolem 100 kamionů s pomocí. Napsaly to agentury AP a DPA. Humanitární organizace Save the Children uvedla, že v Gaze od 7. října zemřelo více dětí než loni v konfliktech na celém světě.\n",
            "Izrael pásmo odřízl od veškerých dodávek, a to včetně pohonných hmot, potravin i vody. Po apelech mezinárodních organizací i západních spojenců Izraele se zatím do Gazy přes hraniční přechod Rafáh s Egyptem podařilo dostat dohromady kolem 125 kamionů s pomocí.\n",
            "I na tomto přechodu však Izrael podle AP povoluje, aby do Gazy proudila jen malá část připravené pomoci. Prokurátor Mezinárodního trestního soudu (ICC) Karim Khan i proto v neděli varoval, že bránit humanitární pomoci pro úzké pásmo na pobřeží Středozemního moře by mohlo být posuzováno jako válečný zločin.\n",
            "Agentura Reuters s odvoláním na Jeruzalém napsala, že Izrael v příštích dnech povolí výrazně větší přísun pomoci do oblasti. Před 7. říjnem vozilo humanitární pomoc do Gazy, která už předtím čelila částečné blokádě, i 500 nákladních aut denně.\n",
            "Nezisková organizace Save the Children s odvoláním na dostupná čísla uvedla, že v Gaze za poslední tři týdny zemřelo nejméně 3195 dětí, což je více než jich běžně umírá v ozbrojených konfliktech po celém světě za celý rok. Loni jich ve 24 různých zemích podle zprávy generálního tajemníka OSN zemřelo 2985, rok předtím 2515. V roce 2020 dětí zabitých v konfliktech na celém světě bylo 2674.\n",
            "„Tři týdny násilí vytrhly děti z rodin a nepředstavitelnou rychlostí rozvrátily jejich životy. Čísla jsou otřesná a vzhledem k tomu, že násilí v Gaze nejen pokračuje, ale právě teď se stupňuje, zůstává mnoho dalších dětí ve vážném ohrožení,“ uvedl představitel organizace pro palestinská území Jason Lee. Je podle něj nutné zastavit boje.\n",
            "Zátahy v Džanínu\n",
            "Izraelské síly v noci na pondělí zároveň provedly další ozbrojené zátahy v Džanínu na severu Západního břehu Jordánu, při kterých zabily nejméně tři Palestince. Jedním z nich je vůdce místní odnože islamistické skupiny Islámský džihád. Informoval o tom zpravodajský server The Times of Israel.\n",
            "Noční akci Izraele v Džanínu potvrdil také zpravodajský server Al-Džazíra, podle nějž se jednalo o jeden z nejrozsáhlejších zátahů od začátku války v Gaze. Podle zdrojů Al-Džazíry byly zabity čtyři osoby a řada dalších utrpěla zranění. Vojáci zatkli desítky osob.\n",
            "Izraelské síly jsou stále v uprchlickém táboře v Džanínu, odkud se objevily záběry, na nichž jsou vojenské buldozery v blízkosti nemocnice a další ničí civilní budovy, dodala Al-Džazíra.\n",
            "Oficiální palestinský zpravodajský server WAFA napsal, že do Džanínu v noci vjelo asi sto vojenských vozidel společně s buldozery. Zároveň Izraelci podnikli útok s pomocí dronu.\n"
          ]
        }
      ]
    },
    {
      "cell_type": "markdown",
      "source": [
        "Conversion to string objects"
      ],
      "metadata": {
        "id": "7Qy02oMAICJc"
      }
    },
    {
      "cell_type": "code",
      "source": [
        "text = article.maintext\n",
        "title = article.title"
      ],
      "metadata": {
        "id": "1C7V37hX7HdV"
      },
      "execution_count": null,
      "outputs": []
    },
    {
      "cell_type": "markdown",
      "source": [
        "## ERROR raised as the document is too long"
      ],
      "metadata": {
        "id": "eLQNnsYrIHB-"
      }
    },
    {
      "cell_type": "markdown",
      "source": [
        "It is supposed to give an error."
      ],
      "metadata": {
        "id": "A3C89Jmh2t8T"
      }
    },
    {
      "cell_type": "code",
      "source": [
        "translator.translate(text, dest=\"en\")"
      ],
      "metadata": {
        "colab": {
          "base_uri": "https://localhost:8080/",
          "height": 321
        },
        "id": "oaBAoGGb63SX",
        "outputId": "351fcbc7-4498-44ed-a6c5-7e5b8bcf9874"
      },
      "execution_count": null,
      "outputs": [
        {
          "output_type": "error",
          "ename": "TypeError",
          "evalue": "ignored",
          "traceback": [
            "\u001b[0;31m---------------------------------------------------------------------------\u001b[0m",
            "\u001b[0;31mTypeError\u001b[0m                                 Traceback (most recent call last)",
            "\u001b[0;32m<ipython-input-6-7bcc08660d3f>\u001b[0m in \u001b[0;36m<cell line: 1>\u001b[0;34m()\u001b[0m\n\u001b[0;32m----> 1\u001b[0;31m \u001b[0mtranslator\u001b[0m\u001b[0;34m.\u001b[0m\u001b[0mtranslate\u001b[0m\u001b[0;34m(\u001b[0m\u001b[0mtext\u001b[0m\u001b[0;34m,\u001b[0m \u001b[0mdest\u001b[0m\u001b[0;34m=\u001b[0m\u001b[0;34m\"en\"\u001b[0m\u001b[0;34m)\u001b[0m\u001b[0;34m\u001b[0m\u001b[0;34m\u001b[0m\u001b[0m\n\u001b[0m",
            "\u001b[0;32m/usr/local/lib/python3.10/dist-packages/googletrans/client.py\u001b[0m in \u001b[0;36mtranslate\u001b[0;34m(self, text, dest, src)\u001b[0m\n\u001b[1;32m    217\u001b[0m \u001b[0;34m\u001b[0m\u001b[0m\n\u001b[1;32m    218\u001b[0m         \u001b[0mdata\u001b[0m \u001b[0;34m=\u001b[0m \u001b[0mjson\u001b[0m\u001b[0;34m.\u001b[0m\u001b[0mloads\u001b[0m\u001b[0;34m(\u001b[0m\u001b[0mresp\u001b[0m\u001b[0;34m)\u001b[0m\u001b[0;34m\u001b[0m\u001b[0;34m\u001b[0m\u001b[0m\n\u001b[0;32m--> 219\u001b[0;31m         \u001b[0mparsed\u001b[0m \u001b[0;34m=\u001b[0m \u001b[0mjson\u001b[0m\u001b[0;34m.\u001b[0m\u001b[0mloads\u001b[0m\u001b[0;34m(\u001b[0m\u001b[0mdata\u001b[0m\u001b[0;34m[\u001b[0m\u001b[0;36m0\u001b[0m\u001b[0;34m]\u001b[0m\u001b[0;34m[\u001b[0m\u001b[0;36m2\u001b[0m\u001b[0;34m]\u001b[0m\u001b[0;34m)\u001b[0m\u001b[0;34m\u001b[0m\u001b[0;34m\u001b[0m\u001b[0m\n\u001b[0m\u001b[1;32m    220\u001b[0m         \u001b[0;31m# not sure\u001b[0m\u001b[0;34m\u001b[0m\u001b[0;34m\u001b[0m\u001b[0m\n\u001b[1;32m    221\u001b[0m         \u001b[0mshould_spacing\u001b[0m \u001b[0;34m=\u001b[0m \u001b[0mparsed\u001b[0m\u001b[0;34m[\u001b[0m\u001b[0;36m1\u001b[0m\u001b[0;34m]\u001b[0m\u001b[0;34m[\u001b[0m\u001b[0;36m0\u001b[0m\u001b[0;34m]\u001b[0m\u001b[0;34m[\u001b[0m\u001b[0;36m0\u001b[0m\u001b[0;34m]\u001b[0m\u001b[0;34m[\u001b[0m\u001b[0;36m3\u001b[0m\u001b[0;34m]\u001b[0m\u001b[0;34m\u001b[0m\u001b[0;34m\u001b[0m\u001b[0m\n",
            "\u001b[0;32m/usr/lib/python3.10/json/__init__.py\u001b[0m in \u001b[0;36mloads\u001b[0;34m(s, cls, object_hook, parse_float, parse_int, parse_constant, object_pairs_hook, **kw)\u001b[0m\n\u001b[1;32m    337\u001b[0m     \u001b[0;32melse\u001b[0m\u001b[0;34m:\u001b[0m\u001b[0;34m\u001b[0m\u001b[0;34m\u001b[0m\u001b[0m\n\u001b[1;32m    338\u001b[0m         \u001b[0;32mif\u001b[0m \u001b[0;32mnot\u001b[0m \u001b[0misinstance\u001b[0m\u001b[0;34m(\u001b[0m\u001b[0ms\u001b[0m\u001b[0;34m,\u001b[0m \u001b[0;34m(\u001b[0m\u001b[0mbytes\u001b[0m\u001b[0;34m,\u001b[0m \u001b[0mbytearray\u001b[0m\u001b[0;34m)\u001b[0m\u001b[0;34m)\u001b[0m\u001b[0;34m:\u001b[0m\u001b[0;34m\u001b[0m\u001b[0;34m\u001b[0m\u001b[0m\n\u001b[0;32m--> 339\u001b[0;31m             raise TypeError(f'the JSON object must be str, bytes or bytearray, '\n\u001b[0m\u001b[1;32m    340\u001b[0m                             f'not {s.__class__.__name__}')\n\u001b[1;32m    341\u001b[0m         \u001b[0ms\u001b[0m \u001b[0;34m=\u001b[0m \u001b[0ms\u001b[0m\u001b[0;34m.\u001b[0m\u001b[0mdecode\u001b[0m\u001b[0;34m(\u001b[0m\u001b[0mdetect_encoding\u001b[0m\u001b[0;34m(\u001b[0m\u001b[0ms\u001b[0m\u001b[0;34m)\u001b[0m\u001b[0;34m,\u001b[0m \u001b[0;34m'surrogatepass'\u001b[0m\u001b[0;34m)\u001b[0m\u001b[0;34m\u001b[0m\u001b[0;34m\u001b[0m\u001b[0m\n",
            "\u001b[0;31mTypeError\u001b[0m: the JSON object must be str, bytes or bytearray, not NoneType"
          ]
        }
      ]
    },
    {
      "cell_type": "markdown",
      "source": [
        "## Split the document into pieces of max 500 characters"
      ],
      "metadata": {
        "id": "a-IX15C6IQ0u"
      }
    },
    {
      "cell_type": "markdown",
      "source": [
        "This is the solution to previous error - then you have an output of different strings.\n",
        "\n",
        "It divides by characters (?)"
      ],
      "metadata": {
        "id": "HDRg4nfn2y2P"
      }
    },
    {
      "cell_type": "code",
      "source": [
        "import textwrap\n",
        "text_split = textwrap.wrap(text,500)"
      ],
      "metadata": {
        "id": "HSh45dpqxvhF"
      },
      "execution_count": null,
      "outputs": []
    },
    {
      "cell_type": "markdown",
      "source": [
        "## Translation is done within a for loop"
      ],
      "metadata": {
        "id": "2OHYMANIIdrV"
      }
    },
    {
      "cell_type": "markdown",
      "source": [
        "Store the output into an empty list.\n",
        "\n",
        "Goes through every piece - does the function and then appends to the end list.\n",
        "\n",
        "Then you end up with a translated list that is divided into pieces."
      ],
      "metadata": {
        "id": "aaMitIXm3C31"
      }
    },
    {
      "cell_type": "code",
      "source": [
        "translated = []\n",
        "for t in text_split:\n",
        "  translation = translator.translate(t, dest='en', src='cs')\n",
        "  print(translation.text)\n",
        "  translated.append(translation.text)"
      ],
      "metadata": {
        "colab": {
          "base_uri": "https://localhost:8080/"
        },
        "id": "FwRuV6Ui1XHV",
        "outputId": "7b06513a-c9c3-4e69-8955-3d3b436779ff"
      },
      "execution_count": null,
      "outputs": [
        {
          "output_type": "stream",
          "name": "stdout",
          "text": [
            "The document draws attention to the likely difficulty of international approval of such a step, but at the same time the forced transfer of the population justifies the resolution of the problem of refugees looking for shelter from the war.Israel in Gaza is doing large air and ground attacks such as retaliation for the massacres of the Palestinian radical movement Hamas in Israel of 7 October, during which 1,400 people died, mostly civilians.The Israeli Army said they killed its ground forces on Monday night in the Gaza Strip\n",
            "\"Dozens of terrorists\", AFP said.According to the Israeli forces, the gunmen were barricaded in houses and tunnels and tried to attack Israeli soldiers, DPA wrote.The claims of the Israeli army cannot be independently verified.Take a look at our other live broadcasts on iDNES.TV one of the aircraft guided by ground units bombed a building in which there were more than 20 enemy fighters.In total, the Israeli army has attacked more than 600 Palestinian destinations in the last days\n",
            "The radical movement Hamas, there were warehouses of weapons, places for launching anti -tank missiles and base of the movement.American television CNN reported on Sunday that, based on the analysis of videos published by the Israeli side, Israeli soldiers advanced by more than three kilometers to the Gaza band.It is about 40 kilometers long and up to 12 kilometers wide.According to witnesses, Israeli tanks advanced to the edge of the city of Gaza and occupied an important road that connects the GAZs zone from north to south, writes AFP.\n",
            "The material also presents a pair of other possible solutions.One of them would be to leave Hamas after the end of the war, which is to destroy Hamas, in Gaza to rule Palestinian self -government, which now controls parts of the West Bank.The second is to support another local regime.Both of these variants for the narrow coastal zone, in which Israeli attacks have already claimed over 8,000 victims, largely, but then rejects the document.One of the main reasons is that these options would not serve as sufficient deterrence before\n",
            "other attacks on Israel.The Israeli government reduces the importance of the documentary by The Times of Israel.The office of Prime Minister Benjamin Netanyahua said Haarec that the material represents \"initial reflections\" concerning this question that the authorities are now not dealing with because they focus on war and not what will be the day after it.Palestinians are threatened with displacement scenarios, not least because they remind them of 1948 and 1967, when hundreds of thousands left Palestinian territories.In the first Arab-Israeli War\n",
            "(1948-1949), when the coalition of Arab countries attacked Israel, 750,000 Palestinians left their homes or were expelled.To this day they call it a nakba, or national disaster.After the six -day war in 1967, during which Israel occupied the West Bank, the Eastern Jerusalem and the Gaza Strip and other territories, followed by another 320,000 Palestinians.The West Bank is still occupied by the West Bank to this day and builds on this territory by other Jewish settlements.The boss of the Palestinian self -government\n",
            "During the current conflict, Mahmúd Abbas said that the Palestinians would not leave their homeland and would not allow anyone to expel them.His concerns were apparently also increased by the Israeli many times repeated challenge to the inhabitants of the northern part of Gaza to leave it and move to the south of this zone, ie closer to the borders with Egypt.Jerusalem justified her by wanting to prevent the death of civilians on the battlefield.War in Israel Watch other parts on iDnes.tv to Gaza got 33 trucks with the help of the Gaza band on Sunday from Egypt\n",
            "It received 33 trucks with food, water and medicines, which is the most in the only day of October 7, when the radical Palestinian movement Hamas attacked Israel.Even so, according to the UN and humanitarian organizations, it would be necessary to come to Gaza, in which 2.3 million people live in the territory of smaller than Prague.It was written by AP and DPA.The Humanitarian Organization Save The Children said more children have died in Gaza since 7 October than last year in conflicts around the world.Israel\n",
            "The band cut off from all supplies, including fuel, food and water.After the appeals of international organizations and Western allies of Israel, so far, around 125 trucks have been able to get into Gaza through the border crossing of Rafáh and Egypt.However, even at this transition, Israel allows only a small part of the prepared assistance to flow into the gaza.The Prosecutor of the International Criminal Court (ICC) Karim Khan also warned on Sunday that preventing humanitarian aid for a narrow band on the coast\n",
            "The Mediterranean could be considered as a war crime.Referring to Jerusalem, Reuters wrote that Israel would allow a significantly greater supply of assistance to the area in the coming days.Before 7 October, it carried humanitarian aid to Gaza, which had previously faced a partial blockade, even 500 trucks per day.The non -profit organization Save the Children, referring to the available figures, said at least 3195 children have died in Gaza over the last three weeks, which is more common in armed\n",
            "Conflicts around the world throughout the year.Last year, according to a report of the UN Secretary -General, 2985 died in 24 different countries, a year before 2515. In 2020 children killed in conflicts around the world were 2674.The numbers are appalling and, as the violence in Gaza not only continues, but is getting up right now, many other children remain in serious threats, ”said the representative of the Palestinian organization\n",
            "territory Jason Lee.According to him, it is necessary to stop the fighting.At the same time, the towing of Janin's Israeli strength on Monday night was carried out by another armed behind in Janin in the north of the West Bank, in which they killed at least three Palestinians.One of them is the leader of the local offshoot of the Islamist group Islamic Jihad.The news server The Times of Israel informed about it.Israel's night action in Janin was also confirmed by the news server Al-Jazeera, according to which it was one of the largest hauling out of\n",
            "the beginning of the war in Gaza.According to Al-Jazera sources, four people were killed and many others suffered injuries.Soldiers arrested dozens of people.Israeli forces are still in the refugee camp in Janin, where the shots have appeared, where there are military bulldozers near the hospital and others destroy civilian buildings, Al-Jazeera added.The official Palestinian news server Wafa wrote that about a hundred military vehicles were entered in Janin at night together with bulldozers.At the same time, the Israelis undertook an attack with the help of a drone.\n"
          ]
        }
      ]
    },
    {
      "cell_type": "code",
      "source": [
        "translated"
      ],
      "metadata": {
        "colab": {
          "base_uri": "https://localhost:8080/"
        },
        "id": "1sAoZX718Hkj",
        "outputId": "977023d8-3409-48fd-cf06-0d668af924f4"
      },
      "execution_count": null,
      "outputs": [
        {
          "output_type": "execute_result",
          "data": {
            "text/plain": [
              "['The document draws attention to the likely difficulty of international approval of such a step, but at the same time the forced transfer of the population justifies the resolution of the problem of refugees looking for shelter from the war.Israel in Gaza is doing large air and ground attacks such as retaliation for the massacres of the Palestinian radical movement Hamas in Israel of 7 October, during which 1,400 people died, mostly civilians.The Israeli Army said they killed its ground forces on Monday night in the Gaza Strip',\n",
              " '\"Dozens of terrorists\", AFP said.According to the Israeli forces, the gunmen were barricaded in houses and tunnels and tried to attack Israeli soldiers, DPA wrote.The claims of the Israeli army cannot be independently verified.Take a look at our other live broadcasts on iDNES.TV one of the aircraft guided by ground units bombed a building in which there were more than 20 enemy fighters.In total, the Israeli army has attacked more than 600 Palestinian destinations in the last days',\n",
              " 'The radical movement Hamas, there were warehouses of weapons, places for launching anti -tank missiles and base of the movement.American television CNN reported on Sunday that, based on the analysis of videos published by the Israeli side, Israeli soldiers advanced by more than three kilometers to the Gaza band.It is about 40 kilometers long and up to 12 kilometers wide.According to witnesses, Israeli tanks advanced to the edge of the city of Gaza and occupied an important road that connects the GAZs zone from north to south, writes AFP.',\n",
              " 'The material also presents a pair of other possible solutions.One of them would be to leave Hamas after the end of the war, which is to destroy Hamas, in Gaza to rule Palestinian self -government, which now controls parts of the West Bank.The second is to support another local regime.Both of these variants for the narrow coastal zone, in which Israeli attacks have already claimed over 8,000 victims, largely, but then rejects the document.One of the main reasons is that these options would not serve as sufficient deterrence before',\n",
              " 'other attacks on Israel.The Israeli government reduces the importance of the documentary by The Times of Israel.The office of Prime Minister Benjamin Netanyahua said Haarec that the material represents \"initial reflections\" concerning this question that the authorities are now not dealing with because they focus on war and not what will be the day after it.Palestinians are threatened with displacement scenarios, not least because they remind them of 1948 and 1967, when hundreds of thousands left Palestinian territories.In the first Arab-Israeli War',\n",
              " '(1948-1949), when the coalition of Arab countries attacked Israel, 750,000 Palestinians left their homes or were expelled.To this day they call it a nakba, or national disaster.After the six -day war in 1967, during which Israel occupied the West Bank, the Eastern Jerusalem and the Gaza Strip and other territories, followed by another 320,000 Palestinians.The West Bank is still occupied by the West Bank to this day and builds on this territory by other Jewish settlements.The boss of the Palestinian self -government',\n",
              " 'During the current conflict, Mahmúd Abbas said that the Palestinians would not leave their homeland and would not allow anyone to expel them.His concerns were apparently also increased by the Israeli many times repeated challenge to the inhabitants of the northern part of Gaza to leave it and move to the south of this zone, ie closer to the borders with Egypt.Jerusalem justified her by wanting to prevent the death of civilians on the battlefield.War in Israel Watch other parts on iDnes.tv to Gaza got 33 trucks with the help of the Gaza band on Sunday from Egypt',\n",
              " 'It received 33 trucks with food, water and medicines, which is the most in the only day of October 7, when the radical Palestinian movement Hamas attacked Israel.Even so, according to the UN and humanitarian organizations, it would be necessary to come to Gaza, in which 2.3 million people live in the territory of smaller than Prague.It was written by AP and DPA.The Humanitarian Organization Save The Children said more children have died in Gaza since 7 October than last year in conflicts around the world.Israel',\n",
              " 'The band cut off from all supplies, including fuel, food and water.After the appeals of international organizations and Western allies of Israel, so far, around 125 trucks have been able to get into Gaza through the border crossing of Rafáh and Egypt.However, even at this transition, Israel allows only a small part of the prepared assistance to flow into the gaza.The Prosecutor of the International Criminal Court (ICC) Karim Khan also warned on Sunday that preventing humanitarian aid for a narrow band on the coast',\n",
              " 'The Mediterranean could be considered as a war crime.Referring to Jerusalem, Reuters wrote that Israel would allow a significantly greater supply of assistance to the area in the coming days.Before 7 October, it carried humanitarian aid to Gaza, which had previously faced a partial blockade, even 500 trucks per day.The non -profit organization Save the Children, referring to the available figures, said at least 3195 children have died in Gaza over the last three weeks, which is more common in armed',\n",
              " 'Conflicts around the world throughout the year.Last year, according to a report of the UN Secretary -General, 2985 died in 24 different countries, a year before 2515. In 2020 children killed in conflicts around the world were 2674.The numbers are appalling and, as the violence in Gaza not only continues, but is getting up right now, many other children remain in serious threats, ”said the representative of the Palestinian organization',\n",
              " \"territory Jason Lee.According to him, it is necessary to stop the fighting.At the same time, the towing of Janin's Israeli strength on Monday night was carried out by another armed behind in Janin in the north of the West Bank, in which they killed at least three Palestinians.One of them is the leader of the local offshoot of the Islamist group Islamic Jihad.The news server The Times of Israel informed about it.Israel's night action in Janin was also confirmed by the news server Al-Jazeera, according to which it was one of the largest hauling out of\",\n",
              " 'the beginning of the war in Gaza.According to Al-Jazera sources, four people were killed and many others suffered injuries.Soldiers arrested dozens of people.Israeli forces are still in the refugee camp in Janin, where the shots have appeared, where there are military bulldozers near the hospital and others destroy civilian buildings, Al-Jazeera added.The official Palestinian news server Wafa wrote that about a hundred military vehicles were entered in Janin at night together with bulldozers.At the same time, the Israelis undertook an attack with the help of a drone.']"
            ]
          },
          "metadata": {},
          "execution_count": 12
        }
      ]
    },
    {
      "cell_type": "markdown",
      "source": [
        "## Restore the document"
      ],
      "metadata": {
        "id": "fqMVmfGoIj8l"
      }
    },
    {
      "cell_type": "markdown",
      "source": [
        "Missing the explanation"
      ],
      "metadata": {
        "id": "IBG54sdh3tJj"
      }
    },
    {
      "cell_type": "code",
      "source": [
        "translated_final = ' '.join(translated)\n",
        "print(translated_final)"
      ],
      "metadata": {
        "colab": {
          "base_uri": "https://localhost:8080/"
        },
        "id": "eblpNs168LUC",
        "outputId": "39ea07ab-184b-4dc2-81e1-4f308d439e3c"
      },
      "execution_count": null,
      "outputs": [
        {
          "output_type": "stream",
          "name": "stdout",
          "text": [
            "The document draws attention to the likely difficulty of international approval of such a step, but at the same time the forced transfer of the population justifies the resolution of the problem of refugees looking for shelter from the war.Israel in Gaza is doing large air and ground attacks such as retaliation for the massacres of the Palestinian radical movement Hamas in Israel of 7 October, during which 1,400 people died, mostly civilians.The Israeli Army said they killed its ground forces on Monday night in the Gaza Strip \"Dozens of terrorists\", AFP said.According to the Israeli forces, the gunmen were barricaded in houses and tunnels and tried to attack Israeli soldiers, DPA wrote.The claims of the Israeli army cannot be independently verified.Take a look at our other live broadcasts on iDNES.TV one of the aircraft guided by ground units bombed a building in which there were more than 20 enemy fighters.In total, the Israeli army has attacked more than 600 Palestinian destinations in the last days The radical movement Hamas, there were warehouses of weapons, places for launching anti -tank missiles and base of the movement.American television CNN reported on Sunday that, based on the analysis of videos published by the Israeli side, Israeli soldiers advanced by more than three kilometers to the Gaza band.It is about 40 kilometers long and up to 12 kilometers wide.According to witnesses, Israeli tanks advanced to the edge of the city of Gaza and occupied an important road that connects the GAZs zone from north to south, writes AFP. The material also presents a pair of other possible solutions.One of them would be to leave Hamas after the end of the war, which is to destroy Hamas, in Gaza to rule Palestinian self -government, which now controls parts of the West Bank.The second is to support another local regime.Both of these variants for the narrow coastal zone, in which Israeli attacks have already claimed over 8,000 victims, largely, but then rejects the document.One of the main reasons is that these options would not serve as sufficient deterrence before other attacks on Israel.The Israeli government reduces the importance of the documentary by The Times of Israel.The office of Prime Minister Benjamin Netanyahua said Haarec that the material represents \"initial reflections\" concerning this question that the authorities are now not dealing with because they focus on war and not what will be the day after it.Palestinians are threatened with displacement scenarios, not least because they remind them of 1948 and 1967, when hundreds of thousands left Palestinian territories.In the first Arab-Israeli War (1948-1949), when the coalition of Arab countries attacked Israel, 750,000 Palestinians left their homes or were expelled.To this day they call it a nakba, or national disaster.After the six -day war in 1967, during which Israel occupied the West Bank, the Eastern Jerusalem and the Gaza Strip and other territories, followed by another 320,000 Palestinians.The West Bank is still occupied by the West Bank to this day and builds on this territory by other Jewish settlements.The boss of the Palestinian self -government During the current conflict, Mahmúd Abbas said that the Palestinians would not leave their homeland and would not allow anyone to expel them.His concerns were apparently also increased by the Israeli many times repeated challenge to the inhabitants of the northern part of Gaza to leave it and move to the south of this zone, ie closer to the borders with Egypt.Jerusalem justified her by wanting to prevent the death of civilians on the battlefield.War in Israel Watch other parts on iDnes.tv to Gaza got 33 trucks with the help of the Gaza band on Sunday from Egypt It received 33 trucks with food, water and medicines, which is the most in the only day of October 7, when the radical Palestinian movement Hamas attacked Israel.Even so, according to the UN and humanitarian organizations, it would be necessary to come to Gaza, in which 2.3 million people live in the territory of smaller than Prague.It was written by AP and DPA.The Humanitarian Organization Save The Children said more children have died in Gaza since 7 October than last year in conflicts around the world.Israel The band cut off from all supplies, including fuel, food and water.After the appeals of international organizations and Western allies of Israel, so far, around 125 trucks have been able to get into Gaza through the border crossing of Rafáh and Egypt.However, even at this transition, Israel allows only a small part of the prepared assistance to flow into the gaza.The Prosecutor of the International Criminal Court (ICC) Karim Khan also warned on Sunday that preventing humanitarian aid for a narrow band on the coast The Mediterranean could be considered as a war crime.Referring to Jerusalem, Reuters wrote that Israel would allow a significantly greater supply of assistance to the area in the coming days.Before 7 October, it carried humanitarian aid to Gaza, which had previously faced a partial blockade, even 500 trucks per day.The non -profit organization Save the Children, referring to the available figures, said at least 3195 children have died in Gaza over the last three weeks, which is more common in armed Conflicts around the world throughout the year.Last year, according to a report of the UN Secretary -General, 2985 died in 24 different countries, a year before 2515. In 2020 children killed in conflicts around the world were 2674.The numbers are appalling and, as the violence in Gaza not only continues, but is getting up right now, many other children remain in serious threats, ”said the representative of the Palestinian organization territory Jason Lee.According to him, it is necessary to stop the fighting.At the same time, the towing of Janin's Israeli strength on Monday night was carried out by another armed behind in Janin in the north of the West Bank, in which they killed at least three Palestinians.One of them is the leader of the local offshoot of the Islamist group Islamic Jihad.The news server The Times of Israel informed about it.Israel's night action in Janin was also confirmed by the news server Al-Jazeera, according to which it was one of the largest hauling out of the beginning of the war in Gaza.According to Al-Jazera sources, four people were killed and many others suffered injuries.Soldiers arrested dozens of people.Israeli forces are still in the refugee camp in Janin, where the shots have appeared, where there are military bulldozers near the hospital and others destroy civilian buildings, Al-Jazeera added.The official Palestinian news server Wafa wrote that about a hundred military vehicles were entered in Janin at night together with bulldozers.At the same time, the Israelis undertook an attack with the help of a drone.\n"
          ]
        }
      ]
    },
    {
      "cell_type": "markdown",
      "source": [
        "Save as `.txt` file"
      ],
      "metadata": {
        "id": "7gnkX2L5IoSU"
      }
    },
    {
      "cell_type": "code",
      "source": [
        "with open('translation.txt', 'w') as f:\n",
        "    f.write(translated_final)"
      ],
      "metadata": {
        "id": "x6XT31gp9Vqw"
      },
      "execution_count": null,
      "outputs": []
    },
    {
      "cell_type": "markdown",
      "source": [
        "## **Crate** a Pandas `DataFrame`"
      ],
      "metadata": {
        "id": "KUu7vRv9I4I8"
      }
    },
    {
      "cell_type": "markdown",
      "source": [
        "This then saves the original title, the original text, the translated and the url.\n",
        "\n",
        "It uses the split to basically split the translation for some reason.- these are to reconnect the sentence based on this combination of symbols."
      ],
      "metadata": {
        "id": "2IxhhTN73zNl"
      }
    },
    {
      "cell_type": "code",
      "source": [
        "title = title.split(\"!@#$%^&*\")\n",
        "text = text.split(\"!@#$%^&*\")\n",
        "translated_final = translated_final.split(\"!@#$%^&*\")\n",
        "url = url.split(\"!@#$%^&*\")"
      ],
      "metadata": {
        "id": "DRk1qrmvAZSx"
      },
      "execution_count": null,
      "outputs": []
    },
    {
      "cell_type": "code",
      "source": [
        "import pandas as pd"
      ],
      "metadata": {
        "id": "EzUWpRzJ4fSQ"
      },
      "execution_count": null,
      "outputs": []
    },
    {
      "cell_type": "code",
      "source": [
        "pd.DataFrame(list(zip(title, text, translated_final, url)),\n",
        "             columns = ['title', 'text', 'translated', 'url'])"
      ],
      "metadata": {
        "colab": {
          "base_uri": "https://localhost:8080/",
          "height": 98
        },
        "id": "1Bw02EyUCHrF",
        "outputId": "0fe620e4-c587-459a-f3bc-eebcec896b61"
      },
      "execution_count": null,
      "outputs": [
        {
          "output_type": "execute_result",
          "data": {
            "text/plain": [
              "                                               title  \\\n",
              "0  Izrael: Palestinci by měli být vysídleni do Eg...   \n",
              "\n",
              "                                                text  \\\n",
              "0  Dokument upozorňuje na pravděpodobné potíže me...   \n",
              "\n",
              "                                          translated  \\\n",
              "0  The document draws attention to the likely dif...   \n",
              "\n",
              "                                                 url  \n",
              "0  https://www.idnes.cz/zpravy/zahranicni/izrael-...  "
            ],
            "text/html": [
              "\n",
              "  <div id=\"df-dbe09d38-eda8-4d40-a1c9-8941469c842d\" class=\"colab-df-container\">\n",
              "    <div>\n",
              "<style scoped>\n",
              "    .dataframe tbody tr th:only-of-type {\n",
              "        vertical-align: middle;\n",
              "    }\n",
              "\n",
              "    .dataframe tbody tr th {\n",
              "        vertical-align: top;\n",
              "    }\n",
              "\n",
              "    .dataframe thead th {\n",
              "        text-align: right;\n",
              "    }\n",
              "</style>\n",
              "<table border=\"1\" class=\"dataframe\">\n",
              "  <thead>\n",
              "    <tr style=\"text-align: right;\">\n",
              "      <th></th>\n",
              "      <th>title</th>\n",
              "      <th>text</th>\n",
              "      <th>translated</th>\n",
              "      <th>url</th>\n",
              "    </tr>\n",
              "  </thead>\n",
              "  <tbody>\n",
              "    <tr>\n",
              "      <th>0</th>\n",
              "      <td>Izrael: Palestinci by měli být vysídleni do Eg...</td>\n",
              "      <td>Dokument upozorňuje na pravděpodobné potíže me...</td>\n",
              "      <td>The document draws attention to the likely dif...</td>\n",
              "      <td>https://www.idnes.cz/zpravy/zahranicni/izrael-...</td>\n",
              "    </tr>\n",
              "  </tbody>\n",
              "</table>\n",
              "</div>\n",
              "    <div class=\"colab-df-buttons\">\n",
              "\n",
              "  <div class=\"colab-df-container\">\n",
              "    <button class=\"colab-df-convert\" onclick=\"convertToInteractive('df-dbe09d38-eda8-4d40-a1c9-8941469c842d')\"\n",
              "            title=\"Convert this dataframe to an interactive table.\"\n",
              "            style=\"display:none;\">\n",
              "\n",
              "  <svg xmlns=\"http://www.w3.org/2000/svg\" height=\"24px\" viewBox=\"0 -960 960 960\">\n",
              "    <path d=\"M120-120v-720h720v720H120Zm60-500h600v-160H180v160Zm220 220h160v-160H400v160Zm0 220h160v-160H400v160ZM180-400h160v-160H180v160Zm440 0h160v-160H620v160ZM180-180h160v-160H180v160Zm440 0h160v-160H620v160Z\"/>\n",
              "  </svg>\n",
              "    </button>\n",
              "\n",
              "  <style>\n",
              "    .colab-df-container {\n",
              "      display:flex;\n",
              "      gap: 12px;\n",
              "    }\n",
              "\n",
              "    .colab-df-convert {\n",
              "      background-color: #E8F0FE;\n",
              "      border: none;\n",
              "      border-radius: 50%;\n",
              "      cursor: pointer;\n",
              "      display: none;\n",
              "      fill: #1967D2;\n",
              "      height: 32px;\n",
              "      padding: 0 0 0 0;\n",
              "      width: 32px;\n",
              "    }\n",
              "\n",
              "    .colab-df-convert:hover {\n",
              "      background-color: #E2EBFA;\n",
              "      box-shadow: 0px 1px 2px rgba(60, 64, 67, 0.3), 0px 1px 3px 1px rgba(60, 64, 67, 0.15);\n",
              "      fill: #174EA6;\n",
              "    }\n",
              "\n",
              "    .colab-df-buttons div {\n",
              "      margin-bottom: 4px;\n",
              "    }\n",
              "\n",
              "    [theme=dark] .colab-df-convert {\n",
              "      background-color: #3B4455;\n",
              "      fill: #D2E3FC;\n",
              "    }\n",
              "\n",
              "    [theme=dark] .colab-df-convert:hover {\n",
              "      background-color: #434B5C;\n",
              "      box-shadow: 0px 1px 3px 1px rgba(0, 0, 0, 0.15);\n",
              "      filter: drop-shadow(0px 1px 2px rgba(0, 0, 0, 0.3));\n",
              "      fill: #FFFFFF;\n",
              "    }\n",
              "  </style>\n",
              "\n",
              "    <script>\n",
              "      const buttonEl =\n",
              "        document.querySelector('#df-dbe09d38-eda8-4d40-a1c9-8941469c842d button.colab-df-convert');\n",
              "      buttonEl.style.display =\n",
              "        google.colab.kernel.accessAllowed ? 'block' : 'none';\n",
              "\n",
              "      async function convertToInteractive(key) {\n",
              "        const element = document.querySelector('#df-dbe09d38-eda8-4d40-a1c9-8941469c842d');\n",
              "        const dataTable =\n",
              "          await google.colab.kernel.invokeFunction('convertToInteractive',\n",
              "                                                    [key], {});\n",
              "        if (!dataTable) return;\n",
              "\n",
              "        const docLinkHtml = 'Like what you see? Visit the ' +\n",
              "          '<a target=\"_blank\" href=https://colab.research.google.com/notebooks/data_table.ipynb>data table notebook</a>'\n",
              "          + ' to learn more about interactive tables.';\n",
              "        element.innerHTML = '';\n",
              "        dataTable['output_type'] = 'display_data';\n",
              "        await google.colab.output.renderOutput(dataTable, element);\n",
              "        const docLink = document.createElement('div');\n",
              "        docLink.innerHTML = docLinkHtml;\n",
              "        element.appendChild(docLink);\n",
              "      }\n",
              "    </script>\n",
              "  </div>\n",
              "\n",
              "    </div>\n",
              "  </div>\n"
            ]
          },
          "metadata": {},
          "execution_count": 14
        }
      ]
    }
  ]
}